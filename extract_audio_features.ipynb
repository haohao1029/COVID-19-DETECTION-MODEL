{
 "cells": [
  {
   "cell_type": "code",
   "execution_count": 1,
   "metadata": {},
   "outputs": [],
   "source": [
    "import numpy as np\n",
    "import pandas as pd\n",
    "import seaborn as sns\n",
    "import matplotlib.pylab as plt\n",
    "import librosa\n",
    "import librosa.display\n",
    "import json\n",
    "import warnings\n",
    "warnings.simplefilter(action='ignore', category=FutureWarning)\n"
   ]
  },
  {
   "cell_type": "code",
   "execution_count": 2,
   "metadata": {},
   "outputs": [],
   "source": [
    "AUDIO_FILE_TYPES = [\n",
    "    \"cough-heavy\",\n",
    "    \"cough-shallow\", \n",
    "    \"breathing-shallow\", \n",
    "    \"breathing-deep\", \n",
    "    \"counting-fast\", \n",
    "    \"counting-normal\", \n",
    "    \"vowel-a\", \n",
    "    \"vowel-e\", \n",
    "    \"vowel-o\"\n",
    "]"
   ]
  },
  {
   "cell_type": "code",
   "execution_count": 3,
   "metadata": {},
   "outputs": [],
   "source": [
    "def extract_feature_statistical_descriptors(x):\n",
    "    return [np.mean(x), np.std(x), np.min(x), np.max(x), np.median(x)]"
   ]
  },
  {
   "cell_type": "code",
   "execution_count": 4,
   "metadata": {},
   "outputs": [],
   "source": [
    "def extract_audio_feature(audio_path, audio_name):\n",
    "    y, sr = librosa.load(audio_path,  mono=True)\n",
    "    if np.mean(y)==0 or len(y)<1024:\n",
    "        raise ValueError()\n",
    "\n",
    "    mel_spectrogram = librosa.feature.melspectrogram(y=y, sr=sr, n_mels=40, fmax=8000)\n",
    "    # mel_spectrogram = librosa.util.normalize(mel_spectrogram, axis=1)\n",
    "    rms_energy = librosa.feature.rms(y=y)\n",
    "    # rms_energy = librosa.util.normalize(rms_energy)\n",
    "    spectral_rolloff = librosa.feature.spectral_rolloff(y=y, sr=sr)\n",
    "    # spectral_rolloff = librosa.util.normalize(spectral_rolloff)\n",
    "    spectral_bandwidth = librosa.feature.spectral_bandwidth(y=y, sr=sr)\n",
    "    # spectral_bandwidth = librosa.util.normalize(spectral_bandwidth)\n",
    "    zero_crossing_rate = librosa.feature.zero_crossing_rate(y=y)\n",
    "    # zero_crossing_rate = librosa.util.normalize(zero_crossing_rate)\n",
    "    mfccs = librosa.feature.mfcc(y=y, sr=sr, n_mfcc=40)\n",
    "    # mfccs = librosa.util.normalize(mfccs, axis=1)\n",
    "    lpc = librosa.lpc(y=y, order=40)\n",
    "    # lpc = librosa.util.normalize(lpc)\n",
    "    spectral_centroid = librosa.feature.spectral_centroid(y=y, sr=sr)\n",
    "    # spectral_centroid = librosa.util.normalize(spectral_centroid)\n",
    "    columns = []\n",
    "    Features = [\n",
    "                (\"rms_energy\", rms_energy), (\"spectral_rolloff\", spectral_rolloff), (\"spectral_bandwidth\", spectral_bandwidth),\n",
    "                (\"zero_crossing_rate\", zero_crossing_rate), (\"lpc\", lpc), (\"spectral_centroid\", spectral_centroid)\n",
    "            ]\n",
    "    ds = pd.Series(index=columns)    \n",
    "\n",
    "    for feature_name, feature in Features:\n",
    "        mean_data, std_data, min_data, max_data, median_data = extract_feature_statistical_descriptors(feature)\n",
    "        ds.loc[f\"{audio_name}_{feature_name}_mean\"] = mean_data\n",
    "        # ds.loc[f\"{audio_name}_{feature_name}_std\"] = std_data\n",
    "        # ds.loc[f\"{audio_name}_{feature_name}_min\"] = min_data\n",
    "        # ds.loc[f\"{audio_name}_{feature_name}_max\"] = max_data\n",
    "        # ds.loc[f\"{audio_name}_{feature_name}_median\"] = median_data\n",
    "\n",
    "    for i in range(0, len(mel_spectrogram)):\n",
    "        mean_data, std_data, min_data, max_data, median_data = extract_feature_statistical_descriptors(mel_spectrogram[i])\n",
    "        ds.loc[f\"{audio_name}_mel_spectrogram_{i + 1}_mean\"] = mean_data\n",
    "        # ds.loc[f\"{audio_name}_mel_spectrogram_{i + 1}_std\"] = std_data\n",
    "        # ds.loc[f\"{audio_name}_mel_spectrogram_{i + 1}_min\"] = min_data\n",
    "        # ds.loc[f\"{audio_name}_mel_spectrogram_{i + 1}_max\"] = max_data\n",
    "        # ds.loc[f\"{audio_name}_mel_spectrogram_{i + 1}_median\"] = median_data\n",
    "\n",
    "    for i in range(0, len(mfccs)):\n",
    "        mean_data, std_data, min_data, max_data, median_data = extract_feature_statistical_descriptors(mfccs[i])\n",
    "        ds.loc[f\"{audio_name}_mfccs_{i + 1}_mean\"] = mean_data\n",
    "        # ds.loc[f\"{audio_name}_mfccs_{i + 1}_std\"] = std_data\n",
    "        # ds.loc[f\"{audio_name}_mfccs_{i + 1}_min\"] = min_data\n",
    "        # ds.loc[f\"{audio_name}_mfccs_{i + 1}_max\"] = max_data\n",
    "        # ds.loc[f\"{audio_name}_mfccs_{i + 1}_median\"] = median_data    \n",
    "    return ds"
   ]
  },
  {
   "cell_type": "code",
   "execution_count": 5,
   "metadata": {},
   "outputs": [
    {
     "name": "stdout",
     "output_type": "stream",
     "text": [
      "200 20200720 2Kc88N5ZQKXucjghAP4Jzq0Dnej2\n",
      "201 20210914 gRD62e1wMoOWkrXS4zbWu95DXj93\n",
      "202 20210426 xXvWuF9fKkRVDhhbkAT8TbE3Rj62\n",
      "203 20200803 iECdjKjowNVh89DwO6HqoRnaDtY2\n"
     ]
    },
    {
     "name": "stderr",
     "output_type": "stream",
     "text": [
      "C:\\Users\\Gan Jing Hao\\AppData\\Local\\Packages\\PythonSoftwareFoundation.Python.3.10_qbz5n2kfra8p0\\LocalCache\\local-packages\\Python310\\site-packages\\numpy\\core\\_methods.py:180: RuntimeWarning: invalid value encountered in reduce\n",
      "  ret = umr_sum(arr, axis, dtype, out, keepdims, where=where)\n",
      "C:\\Users\\Gan Jing Hao\\AppData\\Local\\Packages\\PythonSoftwareFoundation.Python.3.10_qbz5n2kfra8p0\\LocalCache\\local-packages\\Python310\\site-packages\\numpy\\core\\_methods.py:213: RuntimeWarning: invalid value encountered in reduce\n",
      "  arrmean = umr_sum(arr, axis, dtype, keepdims=True, where=where)\n"
     ]
    },
    {
     "name": "stdout",
     "output_type": "stream",
     "text": [
      "204 20200814 AaGldp1blyVKOPpV1KVhsPhrmAg1\n",
      "205 20200502 F6QzdFvGdwarlCWLBfsrGJ5Vgci1\n"
     ]
    },
    {
     "name": "stderr",
     "output_type": "stream",
     "text": [
      "C:\\Users\\Gan Jing Hao\\AppData\\Local\\Packages\\PythonSoftwareFoundation.Python.3.10_qbz5n2kfra8p0\\LocalCache\\local-packages\\Python310\\site-packages\\numpy\\core\\_methods.py:180: RuntimeWarning: invalid value encountered in reduce\n",
      "  ret = umr_sum(arr, axis, dtype, out, keepdims, where=where)\n",
      "C:\\Users\\Gan Jing Hao\\AppData\\Local\\Packages\\PythonSoftwareFoundation.Python.3.10_qbz5n2kfra8p0\\LocalCache\\local-packages\\Python310\\site-packages\\numpy\\core\\_methods.py:213: RuntimeWarning: invalid value encountered in reduce\n",
      "  arrmean = umr_sum(arr, axis, dtype, keepdims=True, where=where)\n"
     ]
    },
    {
     "name": "stdout",
     "output_type": "stream",
     "text": [
      "206 20200707 YR33hHou5PgrLYv2L1mLzHE4na12\n",
      "207 20210603 aH6o5lYN6vh40RCFhfyBYjkQVH13\n",
      "208 20210618 sCIEJBR6IqPCVT23smYLECEv9qE3\n",
      "209 20200417 uiMtR0VGFIaO3CQ1Tl8znyjlyHF2\n",
      "210 20210426 hEj6K9BJ2Ddv8udX3Vw766ns9CB2\n",
      "211 20200417 kWZfsgqkRvaNmjgcH1lKSRIwbdp1\n",
      "212 20200502 K5SeTDLlXVQ0U5sl17KluTKEOKJ3\n",
      "213 20200707 llSmz39DbNfSYZ1M4c8zytC4W0r1\n",
      "214 20220116 GHZxcmoCXZhIfg7KqA0Pt75q9Rj2\n",
      "215 20200415 aisIUPkXXdQv8nvNAjeJb8cebOq2\n",
      "216 20200416 lA0B2Fks6UMfTDPTAuyJXmZOHuo2\n",
      "217 20210714 tfZUfOLuABObiYEbvQPmySozHfg2\n",
      "218 20200707 jaRfWYxsWjV2L833wIIyuivEWFG3\n",
      "219 20210507 ZIuG3ACI2aQ7spKg26hQM9nxFWi1\n"
     ]
    },
    {
     "name": "stderr",
     "output_type": "stream",
     "text": [
      "C:\\Users\\Gan Jing Hao\\AppData\\Local\\Packages\\PythonSoftwareFoundation.Python.3.10_qbz5n2kfra8p0\\LocalCache\\local-packages\\Python310\\site-packages\\numpy\\core\\_methods.py:180: RuntimeWarning: invalid value encountered in reduce\n",
      "  ret = umr_sum(arr, axis, dtype, out, keepdims, where=where)\n",
      "C:\\Users\\Gan Jing Hao\\AppData\\Local\\Packages\\PythonSoftwareFoundation.Python.3.10_qbz5n2kfra8p0\\LocalCache\\local-packages\\Python310\\site-packages\\numpy\\core\\_methods.py:213: RuntimeWarning: invalid value encountered in reduce\n",
      "  arrmean = umr_sum(arr, axis, dtype, keepdims=True, where=where)\n"
     ]
    },
    {
     "name": "stdout",
     "output_type": "stream",
     "text": [
      "220 20200417 x9L8LSXL39VqXt0Y00ekk3G9Gqn1\n",
      "221 20200417 jkP5JFFckOVBrO7AaRcacyXkgMk1\n"
     ]
    },
    {
     "name": "stderr",
     "output_type": "stream",
     "text": [
      "C:\\Users\\Gan Jing Hao\\AppData\\Local\\Packages\\PythonSoftwareFoundation.Python.3.10_qbz5n2kfra8p0\\LocalCache\\local-packages\\Python310\\site-packages\\numpy\\core\\_methods.py:236: RuntimeWarning: overflow encountered in multiply\n",
      "  x = um.multiply(x, x, out=x)\n"
     ]
    },
    {
     "name": "stdout",
     "output_type": "stream",
     "text": [
      "222 20210426 R2GSpbi6GQWiCzz17TR8yj4UB4a2\n",
      "223 20200707 dtV4ZlnWakRFGKpIfiUqdu3q6iq1\n",
      "224 20210603 DggrWUKwrkOXgR2B6v13vKEB1hi1\n",
      "225 20210914 WKGEtOrHpLR8hGt1ytyj1I6PVvG2\n",
      "226 20200416 MXVuW7mecgTkOLUIH7zETZopKkw1\n",
      "227 20200502 MVhuzBxevwRieaQMwOCfiyCCzUK2\n",
      "228 20200502 1gKYFXop8UQtz5vrzrbVcnjX0Vi1\n"
     ]
    },
    {
     "name": "stderr",
     "output_type": "stream",
     "text": [
      "C:\\Users\\Gan Jing Hao\\AppData\\Local\\Packages\\PythonSoftwareFoundation.Python.3.10_qbz5n2kfra8p0\\LocalCache\\local-packages\\Python310\\site-packages\\numpy\\core\\_methods.py:180: RuntimeWarning: invalid value encountered in reduce\n",
      "  ret = umr_sum(arr, axis, dtype, out, keepdims, where=where)\n",
      "C:\\Users\\Gan Jing Hao\\AppData\\Local\\Packages\\PythonSoftwareFoundation.Python.3.10_qbz5n2kfra8p0\\LocalCache\\local-packages\\Python310\\site-packages\\numpy\\core\\_methods.py:213: RuntimeWarning: invalid value encountered in reduce\n",
      "  arrmean = umr_sum(arr, axis, dtype, keepdims=True, where=where)\n"
     ]
    },
    {
     "name": "stdout",
     "output_type": "stream",
     "text": [
      "229 20210914 v8cNN5eg09b4auxFmOqPrNiTZBu1\n",
      "230 20200424 Q2rqPfhdilf16SbycBrtJ4gQ5Ep1\n",
      "231 20220116 gDovgMhPW8UkfRndMTsN2kbWVeu1\n",
      "232 20200502 PZhCH5PyO8RD2FPFQbeCmuGB5q33\n",
      "233 20200814 dZ2k6FfuAlQfa5ldpdDqMV6q7FT2\n",
      "234 20200417 1CtdDsZvTshuIGrVGvF9pilcHP13\n"
     ]
    },
    {
     "name": "stderr",
     "output_type": "stream",
     "text": [
      "C:\\Users\\Gan Jing Hao\\AppData\\Local\\Packages\\PythonSoftwareFoundation.Python.3.10_qbz5n2kfra8p0\\LocalCache\\local-packages\\Python310\\site-packages\\numpy\\core\\_methods.py:236: RuntimeWarning: overflow encountered in multiply\n",
      "  x = um.multiply(x, x, out=x)\n"
     ]
    },
    {
     "name": "stdout",
     "output_type": "stream",
     "text": [
      "235 20201012 zPFIJ3JDo7P5qIIdKvELq76kYi02\n",
      "236 20200417 KJQP1HlxlwfYbc7ogIxZ2Hklyym2\n"
     ]
    },
    {
     "name": "stderr",
     "output_type": "stream",
     "text": [
      "C:\\Users\\Gan Jing Hao\\AppData\\Local\\Packages\\PythonSoftwareFoundation.Python.3.10_qbz5n2kfra8p0\\LocalCache\\local-packages\\Python310\\site-packages\\numpy\\core\\_methods.py:236: RuntimeWarning: overflow encountered in multiply\n",
      "  x = um.multiply(x, x, out=x)\n"
     ]
    },
    {
     "name": "stdout",
     "output_type": "stream",
     "text": [
      "237 20200417 tAqfUCGTWKdgIF95SfZU0gtLPZt1\n"
     ]
    },
    {
     "name": "stderr",
     "output_type": "stream",
     "text": [
      "C:\\Users\\Gan Jing Hao\\AppData\\Local\\Packages\\PythonSoftwareFoundation.Python.3.10_qbz5n2kfra8p0\\LocalCache\\local-packages\\Python310\\site-packages\\numpy\\core\\_methods.py:180: RuntimeWarning: invalid value encountered in reduce\n",
      "  ret = umr_sum(arr, axis, dtype, out, keepdims, where=where)\n",
      "C:\\Users\\Gan Jing Hao\\AppData\\Local\\Packages\\PythonSoftwareFoundation.Python.3.10_qbz5n2kfra8p0\\LocalCache\\local-packages\\Python310\\site-packages\\numpy\\core\\_methods.py:213: RuntimeWarning: invalid value encountered in reduce\n",
      "  arrmean = umr_sum(arr, axis, dtype, keepdims=True, where=where)\n"
     ]
    },
    {
     "name": "stdout",
     "output_type": "stream",
     "text": [
      "238 20200416 kgO3qInKxTZQeaLHAceD3knSCZf2\n"
     ]
    },
    {
     "name": "stderr",
     "output_type": "stream",
     "text": [
      "C:\\Users\\Gan Jing Hao\\AppData\\Local\\Packages\\PythonSoftwareFoundation.Python.3.10_qbz5n2kfra8p0\\LocalCache\\local-packages\\Python310\\site-packages\\numpy\\core\\_methods.py:236: RuntimeWarning: overflow encountered in multiply\n",
      "  x = um.multiply(x, x, out=x)\n"
     ]
    },
    {
     "name": "stdout",
     "output_type": "stream",
     "text": [
      "239 20200416 n53G4OdIz7a5kkUyObojHfGBvki2\n",
      "240 20200417 qr3tupBiFNgeVUX9N4ct8GigLP53\n",
      "241 20210830 DENlXZFYsCVXEC46LmTfiEUyVCa2\n",
      "242 20200720 0zAgZhOXaGhmL1SnhkzJOIoowKg2\n",
      "243 20200502 97sUfTwVG5Nzd1YEOxbtrXbl4hl2\n",
      "244 20200504 W1c56dgBsoe34ilAX8vAZs8tNcX2\n"
     ]
    },
    {
     "name": "stderr",
     "output_type": "stream",
     "text": [
      "C:\\Users\\Gan Jing Hao\\AppData\\Local\\Packages\\PythonSoftwareFoundation.Python.3.10_qbz5n2kfra8p0\\LocalCache\\local-packages\\Python310\\site-packages\\numpy\\core\\_methods.py:247: RuntimeWarning: overflow encountered in reduce\n",
      "  ret = umr_sum(x, axis, dtype, out, keepdims=keepdims, where=where)\n"
     ]
    },
    {
     "name": "stdout",
     "output_type": "stream",
     "text": [
      "245 20210406 zo7vWVJHp5W8ojnfNUogikQTu2K2\n"
     ]
    },
    {
     "name": "stderr",
     "output_type": "stream",
     "text": [
      "C:\\Users\\Gan Jing Hao\\AppData\\Local\\Packages\\PythonSoftwareFoundation.Python.3.10_qbz5n2kfra8p0\\LocalCache\\local-packages\\Python310\\site-packages\\numpy\\core\\_methods.py:236: RuntimeWarning: overflow encountered in multiply\n",
      "  x = um.multiply(x, x, out=x)\n"
     ]
    },
    {
     "name": "stdout",
     "output_type": "stream",
     "text": [
      "246 20200417 Ahv0311uRogDaFFI4X22nzsNVvK2\n",
      "247 20200419 RQqyn5Ur0gcPPYhafDG9DDfIgVh2\n"
     ]
    },
    {
     "name": "stderr",
     "output_type": "stream",
     "text": [
      "C:\\Users\\Gan Jing Hao\\AppData\\Local\\Packages\\PythonSoftwareFoundation.Python.3.10_qbz5n2kfra8p0\\LocalCache\\local-packages\\Python310\\site-packages\\numpy\\core\\_methods.py:236: RuntimeWarning: overflow encountered in multiply\n",
      "  x = um.multiply(x, x, out=x)\n",
      "C:\\Users\\Gan Jing Hao\\AppData\\Local\\Packages\\PythonSoftwareFoundation.Python.3.10_qbz5n2kfra8p0\\LocalCache\\local-packages\\Python310\\site-packages\\numpy\\core\\_methods.py:236: RuntimeWarning: overflow encountered in multiply\n",
      "  x = um.multiply(x, x, out=x)\n"
     ]
    },
    {
     "name": "stdout",
     "output_type": "stream",
     "text": [
      "248 20220224 hOITXttpGkPVIuBJ6W7kXONozD93\n",
      "249 20200416 11GcRROEvCReCSBzteGoFLw1GyS2\n",
      "250 20200416 OuoIQIvPBETkv1JvPOpHjGAK9UJ3\n",
      "251 20200416 BvSvfAT0dRRNGX7n6wmIpOlp7W12\n",
      "252 20220224 SyOrsOVDmef2PGZrjXlCKYlbVh42\n",
      "253 20201221 WBNoFWUY9MhZOfFiLvIDsfIWnSZ2\n",
      "254 20200820 dWeafY7aXUadwWiTVJinx7sftGl2\n"
     ]
    },
    {
     "name": "stderr",
     "output_type": "stream",
     "text": [
      "C:\\Users\\Gan Jing Hao\\AppData\\Local\\Packages\\PythonSoftwareFoundation.Python.3.10_qbz5n2kfra8p0\\LocalCache\\local-packages\\Python310\\site-packages\\numpy\\core\\_methods.py:180: RuntimeWarning: invalid value encountered in reduce\n",
      "  ret = umr_sum(arr, axis, dtype, out, keepdims, where=where)\n",
      "C:\\Users\\Gan Jing Hao\\AppData\\Local\\Packages\\PythonSoftwareFoundation.Python.3.10_qbz5n2kfra8p0\\LocalCache\\local-packages\\Python310\\site-packages\\numpy\\core\\_methods.py:213: RuntimeWarning: invalid value encountered in reduce\n",
      "  arrmean = umr_sum(arr, axis, dtype, keepdims=True, where=where)\n"
     ]
    },
    {
     "name": "stdout",
     "output_type": "stream",
     "text": [
      "255 20220224 2z4h8ZfSFCefq96fyC6PWg0CLh82\n",
      "256 20200502 83BZjlFTcYZWakpS3tf63fpwbQO2\n",
      "257 20200502 2JEOCn5AtuQh5Skzhzf5ASuIC9z1\n",
      "258 20210816 DyTzbmRR0fUyEJVRIaBEvqksiCC3\n",
      "259 20200413 U7UmNZmqS6OWTiDkM7IfqkDRrae2\n",
      "260 20200424 LYJToDRYDZfpjBuNC6YkUcphr0q1\n",
      "261 20210816 gZzVS7gHpQYZS5Xk5P0O2noJRN82\n",
      "262 20200502 D2bMfCAvvSPj39z6fMToDFRh2rB3\n",
      "263 20220224 dTNFgBF67OhD4TMM32epzrsMw9X2\n",
      "264 20210419 yncydoirUqa12tTAUAceL5zMWaK2\n",
      "265 20220224 UyF7Ssyc1OT2LNTeiXIMhRakJ7j1\n"
     ]
    },
    {
     "name": "stderr",
     "output_type": "stream",
     "text": [
      "C:\\Users\\Gan Jing Hao\\AppData\\Local\\Packages\\PythonSoftwareFoundation.Python.3.10_qbz5n2kfra8p0\\LocalCache\\local-packages\\Python310\\site-packages\\numpy\\core\\_methods.py:236: RuntimeWarning: overflow encountered in multiply\n",
      "  x = um.multiply(x, x, out=x)\n"
     ]
    },
    {
     "name": "stdout",
     "output_type": "stream",
     "text": [
      "266 20210830 nJJupqmdVrf3zsgA0nJP8DMtn5B3\n"
     ]
    },
    {
     "name": "stderr",
     "output_type": "stream",
     "text": [
      "C:\\Users\\Gan Jing Hao\\AppData\\Local\\Packages\\PythonSoftwareFoundation.Python.3.10_qbz5n2kfra8p0\\LocalCache\\local-packages\\Python310\\site-packages\\numpy\\core\\_methods.py:180: RuntimeWarning: invalid value encountered in reduce\n",
      "  ret = umr_sum(arr, axis, dtype, out, keepdims, where=where)\n",
      "C:\\Users\\Gan Jing Hao\\AppData\\Local\\Packages\\PythonSoftwareFoundation.Python.3.10_qbz5n2kfra8p0\\LocalCache\\local-packages\\Python310\\site-packages\\numpy\\core\\_methods.py:213: RuntimeWarning: invalid value encountered in reduce\n",
      "  arrmean = umr_sum(arr, axis, dtype, keepdims=True, where=where)\n"
     ]
    },
    {
     "name": "stdout",
     "output_type": "stream",
     "text": [
      "267 20200814 ekXeaNBZYgZvh7mpGGwDQR4Jlwv2\n",
      "268 20200413 G3iIP9QRHPTItOsK6lpEMd6IQKw1\n",
      "269 20220224 92uSFZ33wwaXpjv2jAquQjaBCRb2\n",
      "270 20200415 UJkJrzKjH6UQRZF7eHhUQVQwCHB2\n",
      "271 20200413 hRB1GYdlKAgCnwg4xFzAUE3SiUG2\n",
      "272 20210419 51UrWvD8cibKqSeqLEBp8q6N29y1\n",
      "273 20200417 RTuiIzd8iGX3h3QWpU5CIJYHqD32\n",
      "274 20200416 g6wE0LPtHWdH7XAWDCGHB5Kj1So1\n",
      "275 20220224 aSlWaEQn2veGwFuxU2aND35O8gX2\n"
     ]
    },
    {
     "name": "stderr",
     "output_type": "stream",
     "text": [
      "C:\\Users\\Gan Jing Hao\\AppData\\Local\\Packages\\PythonSoftwareFoundation.Python.3.10_qbz5n2kfra8p0\\LocalCache\\local-packages\\Python310\\site-packages\\numpy\\core\\_methods.py:236: RuntimeWarning: overflow encountered in multiply\n",
      "  x = um.multiply(x, x, out=x)\n",
      "C:\\Users\\Gan Jing Hao\\AppData\\Local\\Packages\\PythonSoftwareFoundation.Python.3.10_qbz5n2kfra8p0\\LocalCache\\local-packages\\Python310\\site-packages\\numpy\\core\\_methods.py:180: RuntimeWarning: invalid value encountered in reduce\n",
      "  ret = umr_sum(arr, axis, dtype, out, keepdims, where=where)\n",
      "C:\\Users\\Gan Jing Hao\\AppData\\Local\\Packages\\PythonSoftwareFoundation.Python.3.10_qbz5n2kfra8p0\\LocalCache\\local-packages\\Python310\\site-packages\\numpy\\core\\_methods.py:213: RuntimeWarning: invalid value encountered in reduce\n",
      "  arrmean = umr_sum(arr, axis, dtype, keepdims=True, where=where)\n"
     ]
    },
    {
     "name": "stdout",
     "output_type": "stream",
     "text": [
      "276 20200418 E3WOlLhxnnXVcE0KOFvydjAPmKH2\n",
      "277 20220224 jwO1tHp8CJVEA8uVP80CM0g4TZN2\n",
      "278 20200707 5BUKA0nZq1SKXR5iRMDNQ4xKxvi1\n",
      "279 20200416 88mEmnYlbaPo3iQRZGn8Fbm9mNs1\n",
      "280 20200814 yWWeEGFFbQV2s7QqXUQjSrdp6573\n"
     ]
    },
    {
     "name": "stderr",
     "output_type": "stream",
     "text": [
      "C:\\Users\\Gan Jing Hao\\AppData\\Local\\Packages\\PythonSoftwareFoundation.Python.3.10_qbz5n2kfra8p0\\LocalCache\\local-packages\\Python310\\site-packages\\numpy\\core\\_methods.py:236: RuntimeWarning: overflow encountered in multiply\n",
      "  x = um.multiply(x, x, out=x)\n"
     ]
    },
    {
     "name": "stdout",
     "output_type": "stream",
     "text": [
      "281 20210406 SwW5rQwDVJRdGLNmwOm1DEjtslB2\n",
      "282 20200415 A6eyvPDHwBNMYFzA65XRMboV96s2\n",
      "283 20200416 z3HiQpxpksYG6UTo9umAL7qWB532\n",
      "284 20210618 XPPJ9BJ5sTQs7BHmMHjD4A0bBlL2\n",
      "285 20210603 WS1gK6DGYegLMEWx3ZNb191hsal1\n"
     ]
    },
    {
     "name": "stderr",
     "output_type": "stream",
     "text": [
      "C:\\Users\\Gan Jing Hao\\AppData\\Local\\Packages\\PythonSoftwareFoundation.Python.3.10_qbz5n2kfra8p0\\LocalCache\\local-packages\\Python310\\site-packages\\numpy\\core\\_methods.py:236: RuntimeWarning: overflow encountered in multiply\n",
      "  x = um.multiply(x, x, out=x)\n"
     ]
    },
    {
     "name": "stdout",
     "output_type": "stream",
     "text": [
      "286 20200417 DXIw27Fbg6PgosoH84rFPOVaQ5q2\n",
      "287 20200504 OK2CZltrvfZbpTWB75LWMFqxfpM2\n",
      "288 20210406 Zj552DZntDTpdVbrQhp7KNVL9sC3\n",
      "289 20200417 YpvrpmeZ2bRKrSUIWVe8a4fzSHg1\n",
      "290 20200417 NKfo9DcpbQeYHlZ6pHDOwRx08i72\n",
      "291 20200415 meYzBgsbbHT9rLhVNx4SYzjRYjK2\n",
      "292 20200413 iq8oYXczSjPuJoVS7DBpkGNMC2p1\n"
     ]
    },
    {
     "name": "stderr",
     "output_type": "stream",
     "text": [
      "C:\\Users\\Gan Jing Hao\\AppData\\Local\\Packages\\PythonSoftwareFoundation.Python.3.10_qbz5n2kfra8p0\\LocalCache\\local-packages\\Python310\\site-packages\\numpy\\core\\_methods.py:236: RuntimeWarning: overflow encountered in multiply\n",
      "  x = um.multiply(x, x, out=x)\n"
     ]
    },
    {
     "name": "stdout",
     "output_type": "stream",
     "text": [
      "293 20210603 wNyhOMMuX3Yo8ntJrq4zGjnpcXk2\n",
      "294 20200502 B6X0O4W1xyP5lMLvMIzc4fGhQSj1\n",
      "295 20200502 X2oy68UUgdNd97dpzW1ZubPZVIC2\n",
      "296 20200502 BMhTCbqVnHNePVbFulnWNu6ZSUg2\n",
      "297 20210507 6d2och05gaZuhGjLC5rEVdGPSsS2\n",
      "298 20200502 796K27lWKTfniw99yaqsYIvPrvi1\n"
     ]
    },
    {
     "name": "stderr",
     "output_type": "stream",
     "text": [
      "C:\\Users\\Gan Jing Hao\\AppData\\Local\\Packages\\PythonSoftwareFoundation.Python.3.10_qbz5n2kfra8p0\\LocalCache\\local-packages\\Python310\\site-packages\\numpy\\core\\_methods.py:236: RuntimeWarning: overflow encountered in multiply\n",
      "  x = um.multiply(x, x, out=x)\n"
     ]
    },
    {
     "name": "stdout",
     "output_type": "stream",
     "text": [
      "299 20210830 piwGufIJ8PbMSVvYAFuIlOievQk2\n"
     ]
    },
    {
     "name": "stderr",
     "output_type": "stream",
     "text": [
      "C:\\Users\\Gan Jing Hao\\AppData\\Local\\Packages\\PythonSoftwareFoundation.Python.3.10_qbz5n2kfra8p0\\LocalCache\\local-packages\\Python310\\site-packages\\numpy\\core\\_methods.py:180: RuntimeWarning: invalid value encountered in reduce\n",
      "  ret = umr_sum(arr, axis, dtype, out, keepdims, where=where)\n",
      "C:\\Users\\Gan Jing Hao\\AppData\\Local\\Packages\\PythonSoftwareFoundation.Python.3.10_qbz5n2kfra8p0\\LocalCache\\local-packages\\Python310\\site-packages\\numpy\\core\\_methods.py:213: RuntimeWarning: invalid value encountered in reduce\n",
      "  arrmean = umr_sum(arr, axis, dtype, keepdims=True, where=where)\n",
      "C:\\Users\\Gan Jing Hao\\AppData\\Local\\Packages\\PythonSoftwareFoundation.Python.3.10_qbz5n2kfra8p0\\LocalCache\\local-packages\\Python310\\site-packages\\numpy\\core\\_methods.py:236: RuntimeWarning: overflow encountered in multiply\n",
      "  x = um.multiply(x, x, out=x)\n"
     ]
    }
   ],
   "source": [
    "df = pd.read_csv(\"understampling_augmented_train_data.csv\")\n",
    "df_with_features = pd.DataFrame()\n",
    "for i in range(200,300):\n",
    "    try:\n",
    "        row = df.iloc[i]\n",
    "        date, id = row[\"date\"], row[\"id\"]\n",
    "        print(i,date,id)\n",
    "        for audio_name in AUDIO_FILE_TYPES:\n",
    "            audio_path = f'./Extracted_data/{date}/{id}/{audio_name}.wav'\n",
    "            df_features_statistic = extract_audio_feature(audio_path, audio_name)\n",
    "            row = pd.concat([row, df_features_statistic])\n",
    "        df_with_features = df_with_features.append(row, ignore_index=True)\n",
    "    except:\n",
    "        print(f\"Error: {date} {id}\")\n",
    "        continue\n",
    "df_with_features.to_csv(\"final_train_data_200_300.csv\", index=False)"
   ]
  },
  {
   "cell_type": "code",
   "execution_count": 10,
   "metadata": {},
   "outputs": [
    {
     "name": "stdout",
     "output_type": "stream",
     "text": [
      "0 20200901 UhYCvhOCn2erbzJc5faN4ek3D1I2\n",
      "1 20201031 kKTK0LeKJlZ7gm7i6CSXcLgR9A82\n",
      "2 20210930 373AihVhKDYxeUR24zNi11JavqC3\n",
      "3 20200416 6C5Cxv34nzSpBc7hvwkP7p5olLz1\n"
     ]
    },
    {
     "name": "stderr",
     "output_type": "stream",
     "text": [
      "C:\\Users\\Gan Jing Hao\\AppData\\Local\\Packages\\PythonSoftwareFoundation.Python.3.10_qbz5n2kfra8p0\\LocalCache\\local-packages\\Python310\\site-packages\\numpy\\core\\_methods.py:236: RuntimeWarning: overflow encountered in multiply\n",
      "  x = um.multiply(x, x, out=x)\n"
     ]
    },
    {
     "name": "stdout",
     "output_type": "stream",
     "text": [
      "4 20200415 zNNcSmfHhTbjLm5NcVmrOAf5C2j2\n"
     ]
    },
    {
     "name": "stderr",
     "output_type": "stream",
     "text": [
      "C:\\Users\\Gan Jing Hao\\AppData\\Local\\Packages\\PythonSoftwareFoundation.Python.3.10_qbz5n2kfra8p0\\LocalCache\\local-packages\\Python310\\site-packages\\numpy\\core\\_methods.py:180: RuntimeWarning: invalid value encountered in reduce\n",
      "  ret = umr_sum(arr, axis, dtype, out, keepdims, where=where)\n",
      "C:\\Users\\Gan Jing Hao\\AppData\\Local\\Packages\\PythonSoftwareFoundation.Python.3.10_qbz5n2kfra8p0\\LocalCache\\local-packages\\Python310\\site-packages\\numpy\\core\\_methods.py:213: RuntimeWarning: invalid value encountered in reduce\n",
      "  arrmean = umr_sum(arr, axis, dtype, keepdims=True, where=where)\n",
      "C:\\Users\\Gan Jing Hao\\AppData\\Local\\Packages\\PythonSoftwareFoundation.Python.3.10_qbz5n2kfra8p0\\LocalCache\\local-packages\\Python310\\site-packages\\numpy\\core\\_methods.py:236: RuntimeWarning: overflow encountered in multiply\n",
      "  x = um.multiply(x, x, out=x)\n"
     ]
    },
    {
     "name": "stdout",
     "output_type": "stream",
     "text": [
      "5 20220224 N7axS3aQ0TfFvTyHbqjZse8iR5T2\n",
      "6 20200504 Ou2g3o2wWgXZuyjlZr8ZABItDYx1\n"
     ]
    },
    {
     "name": "stderr",
     "output_type": "stream",
     "text": [
      "C:\\Users\\Gan Jing Hao\\AppData\\Local\\Packages\\PythonSoftwareFoundation.Python.3.10_qbz5n2kfra8p0\\LocalCache\\local-packages\\Python310\\site-packages\\numpy\\core\\_methods.py:236: RuntimeWarning: overflow encountered in multiply\n",
      "  x = um.multiply(x, x, out=x)\n"
     ]
    },
    {
     "name": "stdout",
     "output_type": "stream",
     "text": [
      "7 20210618 yT2MdQkNRvMvI418P1AQ2SystgE3\n",
      "8 20220224 lqfujb4XEagWaWwKBdJvly6tnXi1\n"
     ]
    },
    {
     "name": "stderr",
     "output_type": "stream",
     "text": [
      "C:\\Users\\Gan Jing Hao\\AppData\\Local\\Packages\\PythonSoftwareFoundation.Python.3.10_qbz5n2kfra8p0\\LocalCache\\local-packages\\Python310\\site-packages\\numpy\\core\\_methods.py:236: RuntimeWarning: overflow encountered in multiply\n",
      "  x = um.multiply(x, x, out=x)\n"
     ]
    },
    {
     "name": "stdout",
     "output_type": "stream",
     "text": [
      "9 20200413 9ypQNsTsSQYlx72wxTLrHzzNoAJ2\n",
      "10 20220224 DyXLhX8t0aSznFGMpqimh3GjBKY2\n"
     ]
    },
    {
     "name": "stderr",
     "output_type": "stream",
     "text": [
      "C:\\Users\\Gan Jing Hao\\AppData\\Local\\Packages\\PythonSoftwareFoundation.Python.3.10_qbz5n2kfra8p0\\LocalCache\\local-packages\\Python310\\site-packages\\numpy\\core\\_methods.py:180: RuntimeWarning: invalid value encountered in reduce\n",
      "  ret = umr_sum(arr, axis, dtype, out, keepdims, where=where)\n",
      "C:\\Users\\Gan Jing Hao\\AppData\\Local\\Packages\\PythonSoftwareFoundation.Python.3.10_qbz5n2kfra8p0\\LocalCache\\local-packages\\Python310\\site-packages\\numpy\\core\\_methods.py:213: RuntimeWarning: invalid value encountered in reduce\n",
      "  arrmean = umr_sum(arr, axis, dtype, keepdims=True, where=where)\n"
     ]
    },
    {
     "name": "stdout",
     "output_type": "stream",
     "text": [
      "11 20200413 eP8gEM0KcBU6S5JpMdycX74KP3p2\n",
      "12 20200820 40NRJEGpU9Vg2IFXcuqCQLiKLVz1\n",
      "13 20200814 cUmQfhZCLYML6b9ETc7qJAKXv1G3\n",
      "14 20200814 6Or8DONUwObeo4MH2Sbtx7JTVNU2\n",
      "15 20200415 QC2olizheGbckya2rPjOWhn00vp1\n"
     ]
    },
    {
     "name": "stderr",
     "output_type": "stream",
     "text": [
      "C:\\Users\\Gan Jing Hao\\AppData\\Local\\Packages\\PythonSoftwareFoundation.Python.3.10_qbz5n2kfra8p0\\LocalCache\\local-packages\\Python310\\site-packages\\numpy\\core\\_methods.py:236: RuntimeWarning: overflow encountered in multiply\n",
      "  x = um.multiply(x, x, out=x)\n"
     ]
    },
    {
     "name": "stdout",
     "output_type": "stream",
     "text": [
      "16 20210714 RcKXXiJlW3ZJC73zJPmEsrxSJVV2\n",
      "17 20220116 RvUXdksXUjPGz9GqFI0cQtpdFw13\n",
      "18 20210816 H2taWn5GjlQJaBy2Fvw3yp3zabg2\n",
      "19 20200814 symIMnhx0SXZB11UPJXEWP4pTbO2\n",
      "20 20200416 7uVROrqAKPMofUKBkPhYGgeU1513\n"
     ]
    },
    {
     "name": "stderr",
     "output_type": "stream",
     "text": [
      "C:\\Users\\Gan Jing Hao\\AppData\\Local\\Packages\\PythonSoftwareFoundation.Python.3.10_qbz5n2kfra8p0\\LocalCache\\local-packages\\Python310\\site-packages\\numpy\\core\\_methods.py:236: RuntimeWarning: overflow encountered in multiply\n",
      "  x = um.multiply(x, x, out=x)\n"
     ]
    },
    {
     "name": "stdout",
     "output_type": "stream",
     "text": [
      "21 20200416 ROuIITY6ZYQRx0FR202YGkTsmSD2\n"
     ]
    },
    {
     "name": "stderr",
     "output_type": "stream",
     "text": [
      "C:\\Users\\Gan Jing Hao\\AppData\\Local\\Packages\\PythonSoftwareFoundation.Python.3.10_qbz5n2kfra8p0\\LocalCache\\local-packages\\Python310\\site-packages\\numpy\\core\\_methods.py:236: RuntimeWarning: overflow encountered in multiply\n",
      "  x = um.multiply(x, x, out=x)\n"
     ]
    },
    {
     "name": "stdout",
     "output_type": "stream",
     "text": [
      "22 20220224 M4tEGrEqsJUH76MNYTdv5ptP5Tf2\n",
      "23 20200504 ki8Scyp1FRUOGvhgpjYjYFgx0gp1\n",
      "24 20200820 05acPS4aRGfvuOfku11Za8zve8i2\n",
      "25 20200418 JIafPire6JYhDR73srLG2xmrdJk1\n",
      "26 20210618 aZxVRpoNSBebXHqCkT6EwLagTvb2\n",
      "27 20220224 g4gIXm2kulbgQoDeDV7UaLFe57F2\n",
      "28 20220224 DAovagy3FjeAtGsjxmJUO9qzxJ72\n",
      "29 20200415 LVfs0kH8h3YRSg7J3Y8g3ufC3a53\n",
      "30 20210406 ZIzrdWNQK1Xhn6o6jrzSVBMdphp2\n",
      "31 20200814 76N4aFIJXScxI1iHeSsihGmRKnv1\n"
     ]
    },
    {
     "name": "stderr",
     "output_type": "stream",
     "text": [
      "C:\\Users\\Gan Jing Hao\\AppData\\Local\\Packages\\PythonSoftwareFoundation.Python.3.10_qbz5n2kfra8p0\\LocalCache\\local-packages\\Python310\\site-packages\\numpy\\core\\_methods.py:236: RuntimeWarning: overflow encountered in multiply\n",
      "  x = um.multiply(x, x, out=x)\n",
      "C:\\Users\\Gan Jing Hao\\AppData\\Local\\Packages\\PythonSoftwareFoundation.Python.3.10_qbz5n2kfra8p0\\LocalCache\\local-packages\\Python310\\site-packages\\numpy\\core\\_methods.py:247: RuntimeWarning: overflow encountered in reduce\n",
      "  ret = umr_sum(x, axis, dtype, out, keepdims=keepdims, where=where)\n"
     ]
    },
    {
     "name": "stdout",
     "output_type": "stream",
     "text": [
      "32 20200424 YjbEAECMBIaZKyfqOvWy5DDImUb2\n",
      "33 20210816 khBKxUEe1rQxPqpo4pGylAZjsEt1\n",
      "34 20200604 qZEBUZAYCHhWEWXUeOGrLFhaZCW2\n",
      "35 20220224 ihRWjuY9hqOzjUTr31YBtTpIzqF3\n",
      "36 20210714 sgYoFXPJ01ekO1Fa1ePU5OsiWda2\n",
      "37 20210618 cGsyomvRhzLiAzPk98QyHu8988q2\n",
      "38 20210816 Ojcz6oRGwLdnOTR7ptVULuG4s8b2\n",
      "39 20210618 2j5I1dnLtBN8hyD149k2dZ19foE3\n",
      "40 20210523 MtXoTPXYhUaIX0skM8V3roaz2B22\n",
      "41 20200707 5ohNPSLiNWRs1vvHxKBj9odGFXl1\n",
      "42 20200418 jvrGsRzHKEU4izNgLFGitM7AZVK2\n"
     ]
    },
    {
     "name": "stderr",
     "output_type": "stream",
     "text": [
      "C:\\Users\\Gan Jing Hao\\AppData\\Local\\Packages\\PythonSoftwareFoundation.Python.3.10_qbz5n2kfra8p0\\LocalCache\\local-packages\\Python310\\site-packages\\numpy\\core\\_methods.py:236: RuntimeWarning: overflow encountered in multiply\n",
      "  x = um.multiply(x, x, out=x)\n"
     ]
    },
    {
     "name": "stdout",
     "output_type": "stream",
     "text": [
      "43 20200415 cAqSJ74dT8S95pUV3nj98Pp12cp1\n",
      "44 20210426 w5duFqV8D8V8c0hZLdmvSkmgcmz1\n",
      "45 20210618 iwhEG3FaU2MHsAPbfTtG1f5B4EH3\n",
      "46 20210630 i11jbfBFcqaVzDmPlWvtjFSx6sx1\n",
      "47 20210630 GBwlY1I67YdQ47ceNFdpK87kEr33\n",
      "48 20210630 iOx0zPyPiMZjCWXuf3RGu8HKq8k1\n",
      "49 20200416 4atnIFwUK3ZZTiWezgLwrvHHOzT2\n"
     ]
    },
    {
     "name": "stderr",
     "output_type": "stream",
     "text": [
      "C:\\Users\\Gan Jing Hao\\AppData\\Local\\Packages\\PythonSoftwareFoundation.Python.3.10_qbz5n2kfra8p0\\LocalCache\\local-packages\\Python310\\site-packages\\numpy\\core\\_methods.py:236: RuntimeWarning: overflow encountered in multiply\n",
      "  x = um.multiply(x, x, out=x)\n"
     ]
    },
    {
     "name": "stdout",
     "output_type": "stream",
     "text": [
      "50 20200502 ypvsQ6trNDhlWTd8A5vXrRCC8mg1\n"
     ]
    },
    {
     "name": "stderr",
     "output_type": "stream",
     "text": [
      "C:\\Users\\Gan Jing Hao\\AppData\\Local\\Packages\\PythonSoftwareFoundation.Python.3.10_qbz5n2kfra8p0\\LocalCache\\local-packages\\Python310\\site-packages\\numpy\\core\\_methods.py:236: RuntimeWarning: overflow encountered in multiply\n",
      "  x = um.multiply(x, x, out=x)\n"
     ]
    },
    {
     "name": "stdout",
     "output_type": "stream",
     "text": [
      "51 20200502 7a71ntGZtkQKltg52eiRPJj4cr33\n",
      "52 20220116 R4RGUF6ibtcRmk3SpqUoOO5JtEW2\n",
      "53 20200504 itvtyBYukyL63vESDviOtQzwGit1\n",
      "54 20200502 NjLggybuDbN2vcR2Va2hyDuDwQv2\n",
      "55 20200417 ZIsSazVaDRZmnV0GzL164wnjQGV2\n",
      "56 20200919 kB7J1mRmiPbjIVTAgovzFwP5nQm1\n",
      "57 20220116 ytxEFfrQ8hbVxSR8tj2SIpYnoKe2\n",
      "58 20200504 kus7obTENSPvUNbwD2yi6vUi0x23\n",
      "59 20210206 yL9QW3T2VueXfL3yvsmXsM2hL4v1\n",
      "60 20200803 k73r7MJLJyav5AF6DJS6LFQnvn82\n",
      "61 20220224 pMfxf4Lpa3UmRsjUwQB20DUUMDe2\n",
      "62 20210930 TlZeYdISczYnBtyApltf2DUIKcy2\n",
      "63 20200803 aJDwaJhhehbgKgHpYaP0sng5rcn2\n",
      "64 20200502 euLpkmzCb1cGb2gkZRQ6gh7hGsC3\n",
      "65 20200416 nyQzKuJfGpRc1KD8cXFY9l6qdcv2\n",
      "66 20200919 oPLTYiEHMFTuruwTXpbRPnlz2mr1\n",
      "67 20220224 67cM99DvHCQ0rm6HIIuCNcZ15Vf2\n",
      "68 20200504 sjRWRFsE64R2o0ZFdGJe8PlWwlM2\n",
      "69 20210914 y9eSqZBOJbUkIbg9oM0XSACsIg33\n",
      "70 20220116 yomibqi24Df9IQHh2laZkzAfJ8C3\n",
      "71 20210816 OPOiHCtB3WXhEdnsofhMpnP8bak1\n",
      "72 20210930 gYPjun6LB5RvdkXcP83uDjCJyhN2\n",
      "73 20210618 DtJl7zpcS5NjbdMwBA0mVinAANt1\n",
      "74 20200416 T6yyKorHTOXc7a7Hdw18FnNLN3I2\n"
     ]
    },
    {
     "name": "stderr",
     "output_type": "stream",
     "text": [
      "C:\\Users\\Gan Jing Hao\\AppData\\Local\\Packages\\PythonSoftwareFoundation.Python.3.10_qbz5n2kfra8p0\\LocalCache\\local-packages\\Python310\\site-packages\\numpy\\core\\_methods.py:236: RuntimeWarning: overflow encountered in multiply\n",
      "  x = um.multiply(x, x, out=x)\n"
     ]
    },
    {
     "name": "stdout",
     "output_type": "stream",
     "text": [
      "75 20210507 dRk3UOvfOMXyuSEddsNcpIqqN8u2\n",
      "76 20200417 k7R0sHWreMTQCDnV5dMzd7t101A3\n",
      "77 20200413 EqDWckxbsETyHUeBLQ8jLtxlhir2\n",
      "78 20220224 ck8BOKpWeXe2QP8A3cIrF5x0ufM2\n",
      "79 20220224 dyqnAhkFfZhVRIDw5qlqhPhddDi2\n"
     ]
    },
    {
     "name": "stderr",
     "output_type": "stream",
     "text": [
      "C:\\Users\\Gan Jing Hao\\AppData\\Local\\Packages\\PythonSoftwareFoundation.Python.3.10_qbz5n2kfra8p0\\LocalCache\\local-packages\\Python310\\site-packages\\numpy\\core\\_methods.py:236: RuntimeWarning: overflow encountered in multiply\n",
      "  x = um.multiply(x, x, out=x)\n"
     ]
    },
    {
     "name": "stdout",
     "output_type": "stream",
     "text": [
      "80 20200424 Ny6G594aKENcYgURBgYJJa62ziV2\n",
      "81 20210630 PoxsEOv7MmbHaY4qT3wNcK8GWrV2\n",
      "82 20200814 9qFHoE68V7RDn79M2QtChoCpiGo2\n",
      "83 20200911 RY495l51qRPkLQxPMtN65Fkzcbw1\n",
      "84 20210419 uuYtRprLjWhFilZnNmWCH0wcT5v2\n",
      "85 20210507 FBdqiwdp4Kc7PpyUkLBM9qMSo2k1\n",
      "86 20200419 Uy5OhcHEQXY65CsYbiRPtN7RVBf1\n",
      "87 20220116 afMsKrOtvnR5ZiN6OCnzzRhTaAa2\n",
      "88 20200502 ZHsY7y4Y8JOoafrQpOKJEr6gORq2\n",
      "89 20200415 h0XfL2JtCLb7hgupJ7lLQJ0fzgF2\n",
      "90 20200416 tk32lejaXfVLODylFxYZC199STm2\n",
      "91 20200418 IQ7tfWcSsRXGe0J94ouY9rsTB8V2\n",
      "92 20220224 HkD9LYJfEiYqGL4Ieaj3SS0D1dq2\n",
      "93 20200901 6mCAHbyEebbEDkxHxOqihoJRkX83\n",
      "94 20200416 SI80JBOb0XcjW0Ez4Dn4Y0Ev5mw2\n",
      "95 20201031 JxtCdZIjW1VjLM92IYEhw3xz3pS2\n",
      "96 20210930 2lsppspH44WH3Scc1ojisHaXJzp1\n",
      "97 20200505 U5bTmSt9PRfWHiGleINUHMl8cg13\n"
     ]
    },
    {
     "name": "stderr",
     "output_type": "stream",
     "text": [
      "C:\\Users\\Gan Jing Hao\\AppData\\Local\\Packages\\PythonSoftwareFoundation.Python.3.10_qbz5n2kfra8p0\\LocalCache\\local-packages\\Python310\\site-packages\\numpy\\core\\_methods.py:247: RuntimeWarning: overflow encountered in reduce\n",
      "  ret = umr_sum(x, axis, dtype, out, keepdims=keepdims, where=where)\n"
     ]
    },
    {
     "name": "stdout",
     "output_type": "stream",
     "text": [
      "98 20200415 03TmwzsdEBVEh35MRMbC9d0NnfI3\n",
      "99 20200814 AAFe8wVTf8Op4UTlq1QJmCyBdK33\n",
      "100 20210419 C63gG5RK0mWMFKI33VweDdYCk4O2\n",
      "101 20210507 rfZxLORiZraDBDfqVP5OX9MwprW2\n",
      "102 20200419 lS9YdIeCTmfaDKr4AgtF1hjdlR23\n",
      "103 20210816 ojZkyl3HYKh3UwCn9h1hOCT7Z4q2\n",
      "104 20200417 FYINlRe3mfOO34R8QcT3skESVRl1\n",
      "105 20210816 356wSucV0OV6VQMvozjX63pIXrH2\n",
      "106 20200415 wq5WR6X7egP0MydXWR8nqSpHqq12\n",
      "107 20200502 jOUwCxF1qygGp8DqIt0zMiueXXj1\n",
      "108 20200416 ysvx8FCvKbPi3Z6Jkhcd6sNsnwn1\n",
      "109 20200424 Q8ADRNJMa3ecKbRrrVWqBsbNmsL2\n",
      "110 20200415 1woiacXdMmXUQiMWESqr83uk1NV2\n",
      "111 20200416 okpi2sQ8U8Vmf21zXNO6kCgks5y2\n",
      "112 20200417 ojihroSqhjfXVXHu7hB7gtI2Pl13\n"
     ]
    },
    {
     "name": "stderr",
     "output_type": "stream",
     "text": [
      "C:\\Users\\Gan Jing Hao\\AppData\\Local\\Packages\\PythonSoftwareFoundation.Python.3.10_qbz5n2kfra8p0\\LocalCache\\local-packages\\Python310\\site-packages\\numpy\\core\\_methods.py:236: RuntimeWarning: overflow encountered in multiply\n",
      "  x = um.multiply(x, x, out=x)\n"
     ]
    },
    {
     "name": "stdout",
     "output_type": "stream",
     "text": [
      "113 20200901 9TA7dm7qVygA0rTNGmNJOlofvtP2\n",
      "114 20200502 UKeaEFOLZbT7lMl0qZr3uGPO4wK2\n",
      "115 20220224 XgXlYRSPDQTiYgs9CdT8sLbZ0lj2\n",
      "116 20210406 qZIdh9mBr0MSVKd4TuYHazCdVm22\n",
      "117 20200803 HN3yAvicf4RTVGb6l0PjM41iBAn2\n"
     ]
    },
    {
     "name": "stderr",
     "output_type": "stream",
     "text": [
      "C:\\Users\\Gan Jing Hao\\AppData\\Local\\Packages\\PythonSoftwareFoundation.Python.3.10_qbz5n2kfra8p0\\LocalCache\\local-packages\\Python310\\site-packages\\numpy\\core\\_methods.py:236: RuntimeWarning: overflow encountered in multiply\n",
      "  x = um.multiply(x, x, out=x)\n"
     ]
    },
    {
     "name": "stdout",
     "output_type": "stream",
     "text": [
      "118 20200417 ck8pNfygbfardUsaoS2NNVvMTt83\n",
      "119 20200416 eqI4Ht18bCU6HbJVycb8GgXRmbU2\n",
      "120 20200424 C5eIsssb9GSkaAgIfsHMHeR6fSh1\n",
      "121 20210603 DOzTO5ZjEsMTQLN81GZHEzxTbnj2\n"
     ]
    },
    {
     "name": "stderr",
     "output_type": "stream",
     "text": [
      "C:\\Users\\Gan Jing Hao\\AppData\\Local\\Packages\\PythonSoftwareFoundation.Python.3.10_qbz5n2kfra8p0\\LocalCache\\local-packages\\Python310\\site-packages\\numpy\\core\\_methods.py:236: RuntimeWarning: overflow encountered in multiply\n",
      "  x = um.multiply(x, x, out=x)\n"
     ]
    },
    {
     "name": "stdout",
     "output_type": "stream",
     "text": [
      "122 20200504 8PtpwfiaGpMFqciQAnNjDnnbvjw2\n"
     ]
    },
    {
     "name": "stderr",
     "output_type": "stream",
     "text": [
      "C:\\Users\\Gan Jing Hao\\AppData\\Local\\Packages\\PythonSoftwareFoundation.Python.3.10_qbz5n2kfra8p0\\LocalCache\\local-packages\\Python310\\site-packages\\numpy\\core\\_methods.py:236: RuntimeWarning: overflow encountered in multiply\n",
      "  x = um.multiply(x, x, out=x)\n"
     ]
    },
    {
     "name": "stdout",
     "output_type": "stream",
     "text": [
      "123 20200415 w8GzYkRUeuVtuONdQbOrrFefVco1\n",
      "124 20220224 b0b0I71nkRRcRvmpp8Yo7LfH6U42\n",
      "125 20210930 dQEgRb1WIAOmomgTx4amrxbQ2513\n",
      "126 20220116 Q846PFwlqPVMF3C7qUdIMZmDncZ2\n",
      "127 20201031 FRMCCawVGmh3acxTrxgPFn7M7zB2\n",
      "128 20200502 A58ps4OZgaO0Y1E5rbeUBGJAxiW2\n",
      "129 20220224 FQ5A1TR9N5fMDztIbUG6uaQS9iM2\n",
      "130 20200820 xuXF9GD5zhWX6SqjzWsrUWvevhh2\n",
      "131 20200707 HqILRgOnPoYTBOwV923xNysDhA82\n",
      "132 20210618 OPgL5r9gSiOhpOtFGVK8e0kN4o73\n",
      "133 20200416 2BdU00Hv7XWhJQOz0TiyeLtvbAG3\n",
      "134 20200502 H6bxcGub1wOdaWWZ7kyk8KYuswf1\n",
      "135 20200417 eSJm8nx2ygT4ZzQRzgYKpJiis1B2\n",
      "136 20200416 WTy9ym2R87WxEwQufFkYxRZDY0C3\n",
      "137 20210714 D9EEvq1ksqN6PEWzIAy7Mu5e8jJ3\n",
      "138 20210618 19TcpGAeIyeLxS55XA6xxH285uz2\n",
      "139 20220224 HrwLNzBkC6Ne3HFpTgobW8scRMI2\n",
      "140 20210714 j8snVeVNX8arLjDPnD9NGjL7MLD3\n",
      "141 20200416 GGGztp5BbtgwQ7McufNdfMAvSFv1\n",
      "142 20210419 gpc5ZdD5pOa7ytps4CYAFQASQcC2\n",
      "143 20210603 lZ9kLbRc2LOSsFx6QbxmJsqzOru2\n"
     ]
    },
    {
     "name": "stderr",
     "output_type": "stream",
     "text": [
      "C:\\Users\\Gan Jing Hao\\AppData\\Local\\Packages\\PythonSoftwareFoundation.Python.3.10_qbz5n2kfra8p0\\LocalCache\\local-packages\\Python310\\site-packages\\numpy\\core\\_methods.py:236: RuntimeWarning: overflow encountered in multiply\n",
      "  x = um.multiply(x, x, out=x)\n"
     ]
    },
    {
     "name": "stdout",
     "output_type": "stream",
     "text": [
      "144 20200419 TXlvBOBGo0ReXW3AHhF5acgJ5Hm2\n",
      "145 20210406 IimA0GnOm7ZR4nEr8k0kG4eaR7A3\n"
     ]
    },
    {
     "name": "stderr",
     "output_type": "stream",
     "text": [
      "C:\\Users\\Gan Jing Hao\\AppData\\Local\\Packages\\PythonSoftwareFoundation.Python.3.10_qbz5n2kfra8p0\\LocalCache\\local-packages\\Python310\\site-packages\\numpy\\core\\_methods.py:247: RuntimeWarning: overflow encountered in reduce\n",
      "  ret = umr_sum(x, axis, dtype, out, keepdims=keepdims, where=where)\n"
     ]
    },
    {
     "name": "stdout",
     "output_type": "stream",
     "text": [
      "146 20220116 BMMAO2fPJfM8Qmaz41cBqDwqQbn1\n"
     ]
    },
    {
     "name": "stderr",
     "output_type": "stream",
     "text": [
      "C:\\Users\\Gan Jing Hao\\AppData\\Local\\Packages\\PythonSoftwareFoundation.Python.3.10_qbz5n2kfra8p0\\LocalCache\\local-packages\\Python310\\site-packages\\numpy\\core\\_methods.py:236: RuntimeWarning: overflow encountered in multiply\n",
      "  x = um.multiply(x, x, out=x)\n"
     ]
    },
    {
     "name": "stdout",
     "output_type": "stream",
     "text": [
      "147 20200419 Su2HALYyJZVvRBh3BrmWmhxkvky2\n"
     ]
    },
    {
     "name": "stderr",
     "output_type": "stream",
     "text": [
      "C:\\Users\\Gan Jing Hao\\AppData\\Local\\Packages\\PythonSoftwareFoundation.Python.3.10_qbz5n2kfra8p0\\LocalCache\\local-packages\\Python310\\site-packages\\numpy\\core\\_methods.py:236: RuntimeWarning: overflow encountered in multiply\n",
      "  x = um.multiply(x, x, out=x)\n"
     ]
    },
    {
     "name": "stdout",
     "output_type": "stream",
     "text": [
      "148 20200416 IS3AoZuo0cXtuYb2aDWkrIWTciP2\n"
     ]
    },
    {
     "name": "stderr",
     "output_type": "stream",
     "text": [
      "C:\\Users\\Gan Jing Hao\\AppData\\Local\\Packages\\PythonSoftwareFoundation.Python.3.10_qbz5n2kfra8p0\\LocalCache\\local-packages\\Python310\\site-packages\\numpy\\core\\_methods.py:180: RuntimeWarning: invalid value encountered in reduce\n",
      "  ret = umr_sum(arr, axis, dtype, out, keepdims, where=where)\n",
      "C:\\Users\\Gan Jing Hao\\AppData\\Local\\Packages\\PythonSoftwareFoundation.Python.3.10_qbz5n2kfra8p0\\LocalCache\\local-packages\\Python310\\site-packages\\numpy\\core\\_methods.py:213: RuntimeWarning: invalid value encountered in reduce\n",
      "  arrmean = umr_sum(arr, axis, dtype, keepdims=True, where=where)\n"
     ]
    },
    {
     "name": "stdout",
     "output_type": "stream",
     "text": [
      "149 20200417 DYiC8Ym6NBgFGQMSLy104RVs4b43\n",
      "150 20220224 VrhKTDg2xLOhnXDrBYUBvk424Fp2\n",
      "151 20210630 rjCqyoFoReUh6bjdZ7DTaRZLpt13\n",
      "152 20210714 S4FqcamhmndyYyD7jKLiT4ctNWT2\n",
      "153 20200419 UbRWBwc42vQH5WKiUUP89RvPlA92\n",
      "154 20200820 TaoyZAahOzRoDQRxb0DtDZh8Opa2\n"
     ]
    },
    {
     "name": "stderr",
     "output_type": "stream",
     "text": [
      "C:\\Users\\Gan Jing Hao\\AppData\\Local\\Packages\\PythonSoftwareFoundation.Python.3.10_qbz5n2kfra8p0\\LocalCache\\local-packages\\Python310\\site-packages\\numpy\\core\\_methods.py:236: RuntimeWarning: overflow encountered in multiply\n",
      "  x = um.multiply(x, x, out=x)\n"
     ]
    },
    {
     "name": "stdout",
     "output_type": "stream",
     "text": [
      "155 20210603 E3nlERKGBPcSO2PjEDJ6GrRKiy73\n",
      "156 20220224 qiVjt2k7nhZstJQZNA77otPmrPr1\n"
     ]
    },
    {
     "name": "stderr",
     "output_type": "stream",
     "text": [
      "C:\\Users\\Gan Jing Hao\\AppData\\Local\\Packages\\PythonSoftwareFoundation.Python.3.10_qbz5n2kfra8p0\\LocalCache\\local-packages\\Python310\\site-packages\\numpy\\core\\_methods.py:236: RuntimeWarning: overflow encountered in multiply\n",
      "  x = um.multiply(x, x, out=x)\n",
      "C:\\Users\\Gan Jing Hao\\AppData\\Local\\Packages\\PythonSoftwareFoundation.Python.3.10_qbz5n2kfra8p0\\LocalCache\\local-packages\\Python310\\site-packages\\numpy\\core\\_methods.py:247: RuntimeWarning: overflow encountered in reduce\n",
      "  ret = umr_sum(x, axis, dtype, out, keepdims=keepdims, where=where)\n"
     ]
    },
    {
     "name": "stdout",
     "output_type": "stream",
     "text": [
      "157 20220116 KuTattHUg2WmBsUuqE29FgsbEzI3\n",
      "158 20220224 awUKLMbczad7Iu5G9jK0l4hAdY22\n",
      "159 20200502 Tg9azT9vyfe95C5l2z8hwHEc1p73\n"
     ]
    },
    {
     "name": "stderr",
     "output_type": "stream",
     "text": [
      "C:\\Users\\Gan Jing Hao\\AppData\\Local\\Packages\\PythonSoftwareFoundation.Python.3.10_qbz5n2kfra8p0\\LocalCache\\local-packages\\Python310\\site-packages\\numpy\\core\\_methods.py:236: RuntimeWarning: overflow encountered in multiply\n",
      "  x = um.multiply(x, x, out=x)\n",
      "C:\\Users\\Gan Jing Hao\\AppData\\Local\\Packages\\PythonSoftwareFoundation.Python.3.10_qbz5n2kfra8p0\\LocalCache\\local-packages\\Python310\\site-packages\\numpy\\core\\_methods.py:247: RuntimeWarning: overflow encountered in reduce\n",
      "  ret = umr_sum(x, axis, dtype, out, keepdims=keepdims, where=where)\n"
     ]
    },
    {
     "name": "stdout",
     "output_type": "stream",
     "text": [
      "160 20220224 RUZ9V5EmqwSb88SCkTX5JN6wDKA3\n",
      "161 20200419 HtCYru78WihN83VInC0etddLCv62\n",
      "162 20220224 hqoVnWWmtaNVeZeo17xGKIihxqp1\n"
     ]
    },
    {
     "name": "stderr",
     "output_type": "stream",
     "text": [
      "C:\\Users\\Gan Jing Hao\\AppData\\Local\\Packages\\PythonSoftwareFoundation.Python.3.10_qbz5n2kfra8p0\\LocalCache\\local-packages\\Python310\\site-packages\\numpy\\core\\_methods.py:180: RuntimeWarning: invalid value encountered in reduce\n",
      "  ret = umr_sum(arr, axis, dtype, out, keepdims, where=where)\n",
      "C:\\Users\\Gan Jing Hao\\AppData\\Local\\Packages\\PythonSoftwareFoundation.Python.3.10_qbz5n2kfra8p0\\LocalCache\\local-packages\\Python310\\site-packages\\numpy\\core\\_methods.py:213: RuntimeWarning: invalid value encountered in reduce\n",
      "  arrmean = umr_sum(arr, axis, dtype, keepdims=True, where=where)\n"
     ]
    },
    {
     "name": "stdout",
     "output_type": "stream",
     "text": [
      "163 20220224 g4lujQUdY3SU70eKinO4zElU39f1\n",
      "164 20220224 7F8EqI7xKcaaEsuRbkrqYc411R62\n",
      "165 20210830 5lJ84fQKn6PXGe3eKwkd3LRquum2\n",
      "166 20220224 DBWTAbg7tYQD4TSfI1qy3V44lTI3\n",
      "167 20210816 gDBsK8LcY0Om4DujIs4lFSsktWu1\n",
      "168 20210930 6WWaE2bjq1YgmugnDuBgA3kLEoL2\n",
      "169 20200502 eNTXqhPqTser8AI98QMVcwQpV5p1\n",
      "170 20220224 Eo4WYCN1ViPSStvGCip3REG707q2\n",
      "171 20210714 g8Ytx04UPzQxX4RH4ADltVtHsuO2\n",
      "172 20220224 62CzHdAb9OVmZU0mqn2YLaj3V853\n",
      "173 20200413 XVjp63ocWZRqJRdxCtklUfmdklm2\n",
      "174 20200419 nDhgdZFoNRUBm7qY6tw3z4ZLOdw2\n",
      "175 20210830 AHoYHSvHUjMh9wRfrrPUiEtUi372\n",
      "176 20200417 mikiKeqF4SVTeAyZiLFsC6FpGEO2\n",
      "177 20220224 5pR0oq0RSaZZASIR1U9Hgh4WoKE2\n",
      "178 20200416 OatFCKWJSXcyyGHHGozArF6mCVU2\n",
      "179 20200415 H0tBSJN5l8db5f6xB2yMm6QxjFO2\n",
      "180 20210630 BVDJ00JbBEeF6oAOYJzebbGLlGY2\n",
      "181 20210618 IHOunHyVaoO7AR6Z0QJgIa31BvS2\n"
     ]
    },
    {
     "name": "stderr",
     "output_type": "stream",
     "text": [
      "C:\\Users\\Gan Jing Hao\\AppData\\Local\\Packages\\PythonSoftwareFoundation.Python.3.10_qbz5n2kfra8p0\\LocalCache\\local-packages\\Python310\\site-packages\\numpy\\core\\_methods.py:180: RuntimeWarning: invalid value encountered in reduce\n",
      "  ret = umr_sum(arr, axis, dtype, out, keepdims, where=where)\n",
      "C:\\Users\\Gan Jing Hao\\AppData\\Local\\Packages\\PythonSoftwareFoundation.Python.3.10_qbz5n2kfra8p0\\LocalCache\\local-packages\\Python310\\site-packages\\numpy\\core\\_methods.py:213: RuntimeWarning: invalid value encountered in reduce\n",
      "  arrmean = umr_sum(arr, axis, dtype, keepdims=True, where=where)\n"
     ]
    },
    {
     "name": "stdout",
     "output_type": "stream",
     "text": [
      "182 20200502 gjF0L8phdmPxc9az1muox66bQD93\n",
      "183 20220224 Y9MJnoqsMcQR7qy9SyrqwoHHDUH2\n",
      "184 20220224 jMbX3ZtuqKQJ6ygocgJP60LgeeT2\n"
     ]
    },
    {
     "name": "stderr",
     "output_type": "stream",
     "text": [
      "C:\\Users\\Gan Jing Hao\\AppData\\Local\\Packages\\PythonSoftwareFoundation.Python.3.10_qbz5n2kfra8p0\\LocalCache\\local-packages\\Python310\\site-packages\\numpy\\core\\_methods.py:236: RuntimeWarning: overflow encountered in multiply\n",
      "  x = um.multiply(x, x, out=x)\n",
      "C:\\Users\\Gan Jing Hao\\AppData\\Local\\Packages\\PythonSoftwareFoundation.Python.3.10_qbz5n2kfra8p0\\LocalCache\\local-packages\\Python310\\site-packages\\numpy\\core\\_methods.py:247: RuntimeWarning: overflow encountered in reduce\n",
      "  ret = umr_sum(x, axis, dtype, out, keepdims=keepdims, where=where)\n"
     ]
    },
    {
     "name": "stdout",
     "output_type": "stream",
     "text": [
      "185 20220224 x4NDxqPiK5Zvu9LQSOeL82jAjpT2\n",
      "186 20200525 rb0viHBCj1fiEgWX34QcL3Zv8B02\n",
      "187 20220224 McLUd3uodlMnWlISFfbnhLZqNpv2\n",
      "188 20220224 mGYWNa2P3hRQzF9OQYSrsAh4MzG3\n",
      "189 20220224 iyaAxHTJYzblIU5xG7H2ybbRT0i2\n",
      "190 20200419 PAngvEIaGxXq92VkTOyQPquFkVI2\n",
      "191 20200505 XKn4doW0qvfsdM1VskIcJSPEhyz2\n",
      "192 20210930 M9CdGPOCUFPWV7KnLgvStPgjLrF3\n",
      "193 20200416 1YKLwejE06Poo1Whg1sYL3EC8sz2\n",
      "194 20200720 4drDZUlQcteX5StlFT2CXEL0N0L2\n",
      "195 20210816 ag9tjfqb9jVJmaWz8GnbBxsuKm92\n"
     ]
    },
    {
     "name": "stderr",
     "output_type": "stream",
     "text": [
      "C:\\Users\\Gan Jing Hao\\AppData\\Local\\Packages\\PythonSoftwareFoundation.Python.3.10_qbz5n2kfra8p0\\LocalCache\\local-packages\\Python310\\site-packages\\numpy\\core\\_methods.py:236: RuntimeWarning: overflow encountered in multiply\n",
      "  x = um.multiply(x, x, out=x)\n"
     ]
    },
    {
     "name": "stdout",
     "output_type": "stream",
     "text": [
      "196 20220224 GeyTvkYRzORwOvXv3rHj8J9X7oC3\n",
      "197 20200604 h3Bw7lc9NfapT3IJkwjIuRI9yfa2\n",
      "198 20220116 fEdLkdLtuvRqYOFBnuLhIkV6tD53\n",
      "199 20200424 OTSzQ3koIrTIdjRbfrDBzn88rLe2\n"
     ]
    },
    {
     "name": "stderr",
     "output_type": "stream",
     "text": [
      "C:\\Users\\Gan Jing Hao\\AppData\\Local\\Packages\\PythonSoftwareFoundation.Python.3.10_qbz5n2kfra8p0\\LocalCache\\local-packages\\Python310\\site-packages\\numpy\\core\\_methods.py:180: RuntimeWarning: invalid value encountered in reduce\n",
      "  ret = umr_sum(arr, axis, dtype, out, keepdims, where=where)\n",
      "C:\\Users\\Gan Jing Hao\\AppData\\Local\\Packages\\PythonSoftwareFoundation.Python.3.10_qbz5n2kfra8p0\\LocalCache\\local-packages\\Python310\\site-packages\\numpy\\core\\_methods.py:213: RuntimeWarning: invalid value encountered in reduce\n",
      "  arrmean = umr_sum(arr, axis, dtype, keepdims=True, where=where)\n"
     ]
    },
    {
     "name": "stdout",
     "output_type": "stream",
     "text": [
      "200 20200416 JiWX55SWdOeOspm0SChcEMFURkJ2\n",
      "201 20210930 etg5L3iyQ3fQAyyn4uZ9jYuoUf13\n",
      "202 20220224 MmqzHZtjxLcH8hLvChCRPkJSjyw2\n",
      "203 20200416 b3xN4I45RJb7nxHBRUd6Q6yx3z33\n",
      "204 20210426 1ZqxuIHSzvMHY5qUirTwgQ2uq4f2\n",
      "205 20220224 X3mPGCcw3MdZdoghEaaE3D4UyWw1\n",
      "206 20201221 p0NEd67WfNMVpZuyt7ECTS6VxDa2\n",
      "207 20210406 yOgmlp4SsRfgN3OIWhxsQC4QdaC3\n"
     ]
    },
    {
     "name": "stderr",
     "output_type": "stream",
     "text": [
      "C:\\Users\\Gan Jing Hao\\AppData\\Local\\Packages\\PythonSoftwareFoundation.Python.3.10_qbz5n2kfra8p0\\LocalCache\\local-packages\\Python310\\site-packages\\numpy\\core\\_methods.py:236: RuntimeWarning: overflow encountered in multiply\n",
      "  x = um.multiply(x, x, out=x)\n"
     ]
    },
    {
     "name": "stdout",
     "output_type": "stream",
     "text": [
      "208 20200417 t19ZtqDNiJd7nL1SntNpS8KQDO73\n",
      "209 20220224 B1ZcRUST0uNa9oJHL4GEKu4RZCI3\n",
      "210 20200820 XzIjEtRHHPci6Zq0zb9Lx0d6zEr2\n",
      "211 20210714 eAH6zemkWAfsP96K8tMyZJIDvgR2\n",
      "212 20200707 Z5Y8ewskqQWeyIFkqRKuwGz9fCv1\n",
      "213 20200502 BPQxhBSlypXZICqfsmZcUYBxFmz1\n",
      "214 20210630 BjSaOnCo37bIz4AgpvWPiAYqwzA3\n",
      "215 20200417 H1Ml5J5BxFT5aJB3687GpncQjOi2\n",
      "216 20200416 sQOS8ZFe4wN6uXSrjtI5ivCt92C3\n"
     ]
    },
    {
     "name": "stderr",
     "output_type": "stream",
     "text": [
      "C:\\Users\\Gan Jing Hao\\AppData\\Local\\Packages\\PythonSoftwareFoundation.Python.3.10_qbz5n2kfra8p0\\LocalCache\\local-packages\\Python310\\site-packages\\numpy\\core\\_methods.py:236: RuntimeWarning: overflow encountered in multiply\n",
      "  x = um.multiply(x, x, out=x)\n"
     ]
    },
    {
     "name": "stdout",
     "output_type": "stream",
     "text": [
      "217 20210523 TQCxi7zzXCTlowvfaJyctxGYNUx1\n",
      "218 20210816 srdG1jMMYHUtAU7bKP1dsbwJvxv1\n",
      "219 20200415 85XodgEaKrPebeSPsJo2UFaDlWj1\n",
      "220 20200502 Hb9DrqUzdCfKOQWYs4T85y3S3Rl1\n",
      "221 20200416 CjVKAdiAXkdaeNfQ7O9VWBrSpLl2\n",
      "222 20200707 RfrT8p9208NHn3170qOYmxel8Kw2\n",
      "223 20200415 3OQBJD8fnBepqWPGQT3eTozrhLn1\n",
      "224 20200415 CFwFsoyLtGUxPNPw5vMD7cznAnO2\n"
     ]
    },
    {
     "name": "stderr",
     "output_type": "stream",
     "text": [
      "C:\\Users\\Gan Jing Hao\\AppData\\Local\\Packages\\PythonSoftwareFoundation.Python.3.10_qbz5n2kfra8p0\\LocalCache\\local-packages\\Python310\\site-packages\\numpy\\core\\_methods.py:236: RuntimeWarning: overflow encountered in multiply\n",
      "  x = um.multiply(x, x, out=x)\n"
     ]
    },
    {
     "name": "stdout",
     "output_type": "stream",
     "text": [
      "225 20201031 tGWiXqKaZ0VQMD0X00ESt25ZpjN2\n",
      "226 20200416 aImqoeTbibTbtdXNmH4F1qc3Jr43\n"
     ]
    },
    {
     "name": "stderr",
     "output_type": "stream",
     "text": [
      "C:\\Users\\Gan Jing Hao\\AppData\\Local\\Packages\\PythonSoftwareFoundation.Python.3.10_qbz5n2kfra8p0\\LocalCache\\local-packages\\Python310\\site-packages\\numpy\\core\\_methods.py:236: RuntimeWarning: overflow encountered in multiply\n",
      "  x = um.multiply(x, x, out=x)\n"
     ]
    },
    {
     "name": "stdout",
     "output_type": "stream",
     "text": [
      "227 20220224 2ETIvPLmoLX1ItSduvHxNLUYXEG2\n",
      "228 20200415 IxdOYraXjNXf620JP1hexb3YDJ93\n",
      "229 20200416 hVWqZEL0c6RSrDEjSCyvyFPMEum1\n",
      "230 20200901 85iNcV2z6MNT3FrygbEC4fuGrIu1\n",
      "231 20200502 MViWQGORcQfI5lGwqT4CDXP9iHG3\n",
      "232 20210426 CpB4mhP3leTMxJdDG3cD3xMN2AI3\n",
      "233 20200416 lyvfINttmWUoQsNNYdkTv8CzBa43\n",
      "234 20200504 PzAQz6zDDcPbdSePDK02jGd4Rm42\n",
      "235 20220224 8O5PzOTmWCV3quABpq2nfbyO2hl2\n",
      "236 20200814 38kz9bimrcUUgifY8S27MVR89eN2\n"
     ]
    },
    {
     "name": "stderr",
     "output_type": "stream",
     "text": [
      "C:\\Users\\Gan Jing Hao\\AppData\\Local\\Packages\\PythonSoftwareFoundation.Python.3.10_qbz5n2kfra8p0\\LocalCache\\local-packages\\Python310\\site-packages\\numpy\\core\\_methods.py:247: RuntimeWarning: overflow encountered in reduce\n",
      "  ret = umr_sum(x, axis, dtype, out, keepdims=keepdims, where=where)\n"
     ]
    },
    {
     "name": "stdout",
     "output_type": "stream",
     "text": [
      "237 20200525 OLMx2P1UahSgkhGyN5zLHZsXMo02\n",
      "238 20220224 JcUJdCRmhcZ1m636DxjSocu52wV2\n",
      "239 20200416 N926xnCk8rTlXrPA1dleXFO4XMJ3\n",
      "240 20200824 JcXAvo6g3GYZOJe6VnzkeqH0OmS2\n",
      "241 20200415 ByeE6FPls3S20RP7vxsLDkmqpA32\n",
      "242 20200416 lJlHlD5QIlOavw5qLRHbyR18T0H2\n",
      "243 20200417 NPwHtrWOTPgBVHkElhwB91qJXts1\n"
     ]
    },
    {
     "name": "stderr",
     "output_type": "stream",
     "text": [
      "C:\\Users\\Gan Jing Hao\\AppData\\Local\\Packages\\PythonSoftwareFoundation.Python.3.10_qbz5n2kfra8p0\\LocalCache\\local-packages\\Python310\\site-packages\\numpy\\core\\_methods.py:247: RuntimeWarning: overflow encountered in reduce\n",
      "  ret = umr_sum(x, axis, dtype, out, keepdims=keepdims, where=where)\n"
     ]
    },
    {
     "name": "stdout",
     "output_type": "stream",
     "text": [
      "244 20200502 fVL3e9RKRgN2yNKT0KMNZhbal8R2\n",
      "245 20220224 3OON9Vwuw8PeFisB03Faxoh7x482\n",
      "246 20220224 bo0evHWkbehTFXFAI2UoWb2rQJD3\n",
      "247 20220224 LS62ICmFA1MB1edwgu6UbyoNwWH3\n",
      "248 20220224 1Yy4zvUaD9ODEpomxZGXCY6V5L03\n"
     ]
    },
    {
     "name": "stderr",
     "output_type": "stream",
     "text": [
      "C:\\Users\\Gan Jing Hao\\AppData\\Local\\Packages\\PythonSoftwareFoundation.Python.3.10_qbz5n2kfra8p0\\LocalCache\\local-packages\\Python310\\site-packages\\numpy\\core\\_methods.py:236: RuntimeWarning: overflow encountered in multiply\n",
      "  x = um.multiply(x, x, out=x)\n"
     ]
    },
    {
     "name": "stdout",
     "output_type": "stream",
     "text": [
      "249 20200504 LC266EVhXoa7KP4o3naQ6oZczml1\n",
      "250 20200502 FYXJ3Brvf1Wi8YdILInJ19dSiJM2\n",
      "251 20200502 qDaEukMgm3YGWKR1SdJqKIaxG6Z2\n",
      "252 20220116 dJHzdoV8x8M6LcPM85FN7sHMMaE3\n",
      "253 20220116 Dz91gFv2ulfOIQ5docxFItx6jUF2\n",
      "254 20200504 NZ7eJVaMFDMMhpOKZ1ztgkr3fVO2\n"
     ]
    },
    {
     "name": "stderr",
     "output_type": "stream",
     "text": [
      "C:\\Users\\Gan Jing Hao\\AppData\\Local\\Packages\\PythonSoftwareFoundation.Python.3.10_qbz5n2kfra8p0\\LocalCache\\local-packages\\Python310\\site-packages\\numpy\\core\\_methods.py:236: RuntimeWarning: overflow encountered in multiply\n",
      "  x = um.multiply(x, x, out=x)\n",
      "C:\\Users\\Gan Jing Hao\\AppData\\Local\\Packages\\PythonSoftwareFoundation.Python.3.10_qbz5n2kfra8p0\\LocalCache\\local-packages\\Python310\\site-packages\\numpy\\core\\_methods.py:247: RuntimeWarning: overflow encountered in reduce\n",
      "  ret = umr_sum(x, axis, dtype, out, keepdims=keepdims, where=where)\n"
     ]
    },
    {
     "name": "stdout",
     "output_type": "stream",
     "text": [
      "255 20210930 JBt2sizAUqdzxaoHx2jCMl9ky1H2\n",
      "256 20220116 KlAIIeihTRMefwV4X9bJ6kt7E6K2\n",
      "257 20200413 UV965HIG9saPO9HjKNFSm2aFeBt2\n",
      "258 20210930 vtdu4kS2cvMzFuiLWgO6v1oTc7F2\n",
      "259 20200504 Qxsv89ELtlUniEBfEvmDldEdZBy2\n"
     ]
    },
    {
     "name": "stderr",
     "output_type": "stream",
     "text": [
      "C:\\Users\\Gan Jing Hao\\AppData\\Local\\Packages\\PythonSoftwareFoundation.Python.3.10_qbz5n2kfra8p0\\LocalCache\\local-packages\\Python310\\site-packages\\numpy\\core\\_methods.py:236: RuntimeWarning: overflow encountered in multiply\n",
      "  x = um.multiply(x, x, out=x)\n"
     ]
    },
    {
     "name": "stdout",
     "output_type": "stream",
     "text": [
      "260 20200415 JLXdsKrUesSLpwUOMSqQFfYwtZ82\n",
      "261 20210914 JUzBsjVXNFPslTzz5G3x2cZ6JFg2\n",
      "262 20220224 m5hhc5IKLmRH6gBo3MH5S8GdV583\n",
      "263 20220224 JOteeuJZmHZT6s051qxV3G9T0yM2\n",
      "264 20200525 f3NCnb7N1qS2qraT8fdnW7BVVCm1\n",
      "265 20200416 welbkeuEJpggaMpfcDyPgP8im703\n"
     ]
    },
    {
     "name": "stderr",
     "output_type": "stream",
     "text": [
      "C:\\Users\\Gan Jing Hao\\AppData\\Local\\Packages\\PythonSoftwareFoundation.Python.3.10_qbz5n2kfra8p0\\LocalCache\\local-packages\\Python310\\site-packages\\numpy\\core\\_methods.py:247: RuntimeWarning: overflow encountered in reduce\n",
      "  ret = umr_sum(x, axis, dtype, out, keepdims=keepdims, where=where)\n"
     ]
    },
    {
     "name": "stdout",
     "output_type": "stream",
     "text": [
      "266 20200504 7Z834FePKIhCrPJPjkOE69XeNcm1\n",
      "267 20200525 1kXfAOTvLBbCCcTBJOrHUFzARSo1\n",
      "268 20200803 nFYEOudV6AXO7kSQU7mjyezJXUw2\n",
      "269 20200504 qpCGgfO05mWt67NzsFBKWJ5ZF1U2\n",
      "270 20210618 4w3GC0eRNVXJ4q4vRLphW9RIiQY2\n",
      "271 20200417 HCsgRpbj4vdEXoAjjSDJj9vQFbB2\n",
      "272 20210816 dPi1G2i821MDlbBUQWboTaExz023\n"
     ]
    },
    {
     "name": "stderr",
     "output_type": "stream",
     "text": [
      "C:\\Users\\Gan Jing Hao\\AppData\\Local\\Packages\\PythonSoftwareFoundation.Python.3.10_qbz5n2kfra8p0\\LocalCache\\local-packages\\Python310\\site-packages\\numpy\\core\\_methods.py:236: RuntimeWarning: overflow encountered in multiply\n",
      "  x = um.multiply(x, x, out=x)\n"
     ]
    },
    {
     "name": "stdout",
     "output_type": "stream",
     "text": [
      "273 20200415 HmsAhPiHhiQOnvXYXzZ5u5qFqLq1\n",
      "274 20200505 jNkULA6oqOO3RwpvkA1OZ61hhi02\n",
      "275 20210630 139P5XQHCAPJlxTo53QLd6FviL82\n",
      "276 20200416 6FftFl1jWlQHb0N37KW4ajs9dqH3\n",
      "277 20201130 K3kwl6reCLNR8G0Al3zNQVztRri2\n",
      "278 20201221 oIy4hushZORMcftMVIAxabN1QZd2\n",
      "279 20210830 hXCoYBU91OVMmm8UbOjQJbAADrg2\n",
      "280 20200901 REREbF9ZKUd33adQOFDQXSYK3SI3\n",
      "281 20200418 hkALlH5TJ9Pj4tbOCoXyVPtOIBf1\n",
      "282 20210930 fNe0efstbKQ1DRexWt1ETpeEsHn1\n",
      "283 20200814 byVsWVHvkgc9Pkf4lUPOGSdZ0Vl2\n",
      "284 20200413 xyDgyXrDoyXu5CFqcNe20LRjYqg1\n",
      "285 20210830 4YiHRY5px0P0PbQ4Fjst4bh95ay2\n"
     ]
    },
    {
     "name": "stderr",
     "output_type": "stream",
     "text": [
      "C:\\Users\\Gan Jing Hao\\AppData\\Local\\Packages\\PythonSoftwareFoundation.Python.3.10_qbz5n2kfra8p0\\LocalCache\\local-packages\\Python310\\site-packages\\numpy\\core\\_methods.py:236: RuntimeWarning: overflow encountered in multiply\n",
      "  x = um.multiply(x, x, out=x)\n"
     ]
    },
    {
     "name": "stdout",
     "output_type": "stream",
     "text": [
      "286 20200502 JCDtX8bUuMbQNeh7SkMjavkAgVv2\n",
      "287 20200505 5xZE8Rq5oihwEixr96NmUmiy7zk1\n"
     ]
    },
    {
     "name": "stderr",
     "output_type": "stream",
     "text": [
      "C:\\Users\\Gan Jing Hao\\AppData\\Local\\Packages\\PythonSoftwareFoundation.Python.3.10_qbz5n2kfra8p0\\LocalCache\\local-packages\\Python310\\site-packages\\numpy\\core\\_methods.py:236: RuntimeWarning: overflow encountered in multiply\n",
      "  x = um.multiply(x, x, out=x)\n"
     ]
    },
    {
     "name": "stdout",
     "output_type": "stream",
     "text": [
      "288 20200504 ARnHOwUIKyfpC9ryG6AqrTcksmq1\n",
      "289 20200525 FNYflY4qOecrSQOzynZ1WDQZfCJ3\n",
      "290 20200416 Cxk4DW9S6fQhB2mafs7RBT6HCLt1\n"
     ]
    },
    {
     "name": "stderr",
     "output_type": "stream",
     "text": [
      "C:\\Users\\Gan Jing Hao\\AppData\\Local\\Packages\\PythonSoftwareFoundation.Python.3.10_qbz5n2kfra8p0\\LocalCache\\local-packages\\Python310\\site-packages\\numpy\\core\\_methods.py:236: RuntimeWarning: overflow encountered in multiply\n",
      "  x = um.multiply(x, x, out=x)\n"
     ]
    },
    {
     "name": "stdout",
     "output_type": "stream",
     "text": [
      "291 20200418 yJRZfiFIsQhFptP6nnlJp825AHF2\n",
      "292 20200504 IVQDOUP0a8cwMvCkp1TnZ1FI88Z2\n",
      "293 20200415 vtVLtX1PGdX2b2fhF18Fk6DULZ03\n",
      "294 20200502 iwgKSGOJCSXNupqJWO2JeuT3Omf2\n",
      "295 20210830 34eqsd3iQjhFWCb6TW1iWBiuymt2\n",
      "296 20200413 9XJ2QSvS9CaIo5hSyRZcdst0K8P2\n",
      "297 20200413 2TkAK2YVkYS7Ux3hAPBUgYgg9DI3\n",
      "298 20200417 vwUqgVSWMCWzCNxdD8uE97pk0I53\n",
      "299 20210930 o6B4I2N2P7QAdtZD8YTEFJ1zbS32\n",
      "300 20210630 IlMV1V7sPvWocD6uBo0aVqpfuIQ2\n",
      "301 20210523 jAP3y51Zjcd3gkB80PuRAfSXTGa2\n",
      "302 20210830 ByJgkN2PApVkDJfUN5wp1gUuxt52\n"
     ]
    },
    {
     "name": "stderr",
     "output_type": "stream",
     "text": [
      "C:\\Users\\Gan Jing Hao\\AppData\\Local\\Packages\\PythonSoftwareFoundation.Python.3.10_qbz5n2kfra8p0\\LocalCache\\local-packages\\Python310\\site-packages\\numpy\\core\\_methods.py:236: RuntimeWarning: overflow encountered in multiply\n",
      "  x = um.multiply(x, x, out=x)\n"
     ]
    },
    {
     "name": "stdout",
     "output_type": "stream",
     "text": [
      "303 20200415 cxchnGnCHJQ3Tjqn5faj2Sfqa0e2\n"
     ]
    },
    {
     "name": "stderr",
     "output_type": "stream",
     "text": [
      "C:\\Users\\Gan Jing Hao\\AppData\\Local\\Packages\\PythonSoftwareFoundation.Python.3.10_qbz5n2kfra8p0\\LocalCache\\local-packages\\Python310\\site-packages\\numpy\\core\\_methods.py:236: RuntimeWarning: overflow encountered in multiply\n",
      "  x = um.multiply(x, x, out=x)\n",
      "C:\\Users\\Gan Jing Hao\\AppData\\Local\\Packages\\PythonSoftwareFoundation.Python.3.10_qbz5n2kfra8p0\\LocalCache\\local-packages\\Python310\\site-packages\\numpy\\core\\_methods.py:247: RuntimeWarning: overflow encountered in reduce\n",
      "  ret = umr_sum(x, axis, dtype, out, keepdims=keepdims, where=where)\n"
     ]
    },
    {
     "name": "stdout",
     "output_type": "stream",
     "text": [
      "304 20210406 f78ZFmqneaOWttg3xhtcmO4XZOu2\n",
      "305 20200820 20fmUqvUKmhKFgj9U6zVLyjNeAu2\n",
      "306 20200415 6sUnPQNXQCYawfmLL8Pg91UxoiI3\n",
      "307 20220116 q1ruQZhVbqZ8gE0QERQFBGeERY83\n",
      "308 20210914 zEVxg2ell6enCYjTDqsBLty8fh83\n",
      "309 20200707 sW80fLKGSiXcPBKFwnwRaaRdPKX2\n",
      "310 20200820 NRG3cVOEhsTaVQeeNG60tBv247Z2\n",
      "311 20210930 gwg5V9vEkMYvDqW38tY5b82qYoi2\n",
      "312 20200416 UDEHS36gwSOkEmBhQZSlwGnijax2\n"
     ]
    },
    {
     "name": "stderr",
     "output_type": "stream",
     "text": [
      "C:\\Users\\Gan Jing Hao\\AppData\\Local\\Packages\\PythonSoftwareFoundation.Python.3.10_qbz5n2kfra8p0\\LocalCache\\local-packages\\Python310\\site-packages\\numpy\\core\\_methods.py:247: RuntimeWarning: overflow encountered in reduce\n",
      "  ret = umr_sum(x, axis, dtype, out, keepdims=keepdims, where=where)\n"
     ]
    },
    {
     "name": "stdout",
     "output_type": "stream",
     "text": [
      "313 20200502 jU6lNbGSe4TXBJdMhRoUCRnAWsT2\n",
      "314 20200919 gcBPC2UzklTmymsRwuBcQlCsb7k2\n"
     ]
    },
    {
     "name": "stderr",
     "output_type": "stream",
     "text": [
      "C:\\Users\\Gan Jing Hao\\AppData\\Local\\Packages\\PythonSoftwareFoundation.Python.3.10_qbz5n2kfra8p0\\LocalCache\\local-packages\\Python310\\site-packages\\numpy\\core\\_methods.py:236: RuntimeWarning: overflow encountered in multiply\n",
      "  x = um.multiply(x, x, out=x)\n"
     ]
    },
    {
     "name": "stdout",
     "output_type": "stream",
     "text": [
      "315 20200417 kaIGgo2Cw7ff8AkV7vzWQ1KArwm1\n",
      "316 20200416 uUqS0VsfJrTv9zCPWwLqRmF8Uoq1\n",
      "317 20200415 LwOBSX8F07Z5HgRGLFS3aOQEVKk2\n"
     ]
    },
    {
     "name": "stderr",
     "output_type": "stream",
     "text": [
      "C:\\Users\\Gan Jing Hao\\AppData\\Local\\Packages\\PythonSoftwareFoundation.Python.3.10_qbz5n2kfra8p0\\LocalCache\\local-packages\\Python310\\site-packages\\numpy\\core\\_methods.py:236: RuntimeWarning: overflow encountered in multiply\n",
      "  x = um.multiply(x, x, out=x)\n"
     ]
    },
    {
     "name": "stdout",
     "output_type": "stream",
     "text": [
      "318 20210930 W9BiHG3wfMPNQFftpFEofAbNHLZ2\n",
      "319 20200415 vw3Nw1Gmt3WA78SHAzJwelNRduv1\n",
      "320 20220116 JAbr5e5oaIQa6gXUPpQuC5O17eD2\n",
      "321 20200504 gWIawRTh97MMSACF9Mq9braP8s12\n"
     ]
    },
    {
     "name": "stderr",
     "output_type": "stream",
     "text": [
      "C:\\Users\\Gan Jing Hao\\AppData\\Local\\Packages\\PythonSoftwareFoundation.Python.3.10_qbz5n2kfra8p0\\LocalCache\\local-packages\\Python310\\site-packages\\numpy\\core\\_methods.py:236: RuntimeWarning: overflow encountered in multiply\n",
      "  x = um.multiply(x, x, out=x)\n",
      "C:\\Users\\Gan Jing Hao\\AppData\\Local\\Packages\\PythonSoftwareFoundation.Python.3.10_qbz5n2kfra8p0\\LocalCache\\local-packages\\Python310\\site-packages\\numpy\\core\\_methods.py:236: RuntimeWarning: overflow encountered in multiply\n",
      "  x = um.multiply(x, x, out=x)\n"
     ]
    },
    {
     "name": "stdout",
     "output_type": "stream",
     "text": [
      "322 20220224 Ik4gxA5KENgKW3PwfdQeKZUPvVe2\n"
     ]
    },
    {
     "name": "stderr",
     "output_type": "stream",
     "text": [
      "C:\\Users\\Gan Jing Hao\\AppData\\Local\\Packages\\PythonSoftwareFoundation.Python.3.10_qbz5n2kfra8p0\\LocalCache\\local-packages\\Python310\\site-packages\\librosa\\util\\decorators.py:88: UserWarning: n_fft=2048 is too small for input signal of length=1882\n",
      "  return f(*args, **kwargs)\n"
     ]
    },
    {
     "name": "stdout",
     "output_type": "stream",
     "text": [
      "323 20210630 oaPUZHlGUKbn5pcKe9pJLksHKoP2\n"
     ]
    },
    {
     "name": "stderr",
     "output_type": "stream",
     "text": [
      "C:\\Users\\Gan Jing Hao\\AppData\\Local\\Packages\\PythonSoftwareFoundation.Python.3.10_qbz5n2kfra8p0\\LocalCache\\local-packages\\Python310\\site-packages\\numpy\\core\\_methods.py:180: RuntimeWarning: invalid value encountered in reduce\n",
      "  ret = umr_sum(arr, axis, dtype, out, keepdims, where=where)\n",
      "C:\\Users\\Gan Jing Hao\\AppData\\Local\\Packages\\PythonSoftwareFoundation.Python.3.10_qbz5n2kfra8p0\\LocalCache\\local-packages\\Python310\\site-packages\\numpy\\core\\_methods.py:213: RuntimeWarning: invalid value encountered in reduce\n",
      "  arrmean = umr_sum(arr, axis, dtype, keepdims=True, where=where)\n"
     ]
    },
    {
     "name": "stdout",
     "output_type": "stream",
     "text": [
      "324 20210618 2zAfpSxYt0O6Bl7qwUhicdCoyY42\n",
      "325 20210930 jdmPoaERQYgHcuwnCpTtFfuOpyM2\n",
      "326 20210406 JhH2YMg1TpWG7RqVv3jOTXFmJZt2\n",
      "327 20210603 t0IcY0l4PcU8VicMlC1xC3taL2E2\n"
     ]
    },
    {
     "name": "stderr",
     "output_type": "stream",
     "text": [
      "C:\\Users\\Gan Jing Hao\\AppData\\Local\\Packages\\PythonSoftwareFoundation.Python.3.10_qbz5n2kfra8p0\\LocalCache\\local-packages\\Python310\\site-packages\\numpy\\core\\_methods.py:236: RuntimeWarning: overflow encountered in multiply\n",
      "  x = um.multiply(x, x, out=x)\n"
     ]
    },
    {
     "name": "stdout",
     "output_type": "stream",
     "text": [
      "328 20200824 V4vtnfRZS8bjKjuR7KVyYnJQXw32\n",
      "329 20210914 mM5KRWXtilYLsOILvMB2WdRVVC53\n",
      "330 20200418 chGPz3cGyvRFMdWo36WHlyEBgpx1\n",
      "331 20200416 jVdlO7RPQmaumDLciCDspJInwMx2\n",
      "332 20200919 nC130uADRFZF5vae8qZt2qmpbpi1\n",
      "333 20210816 2DlLebpOzxaURwfwyo2fZiWIF1Z2\n",
      "334 20210406 00xKcQMmcAhX8CODgBBLOe7Dm0T2\n",
      "335 20200720 LW6U5C8CENR1PsmldatYGdCBcYg1\n"
     ]
    },
    {
     "name": "stderr",
     "output_type": "stream",
     "text": [
      "C:\\Users\\Gan Jing Hao\\AppData\\Local\\Packages\\PythonSoftwareFoundation.Python.3.10_qbz5n2kfra8p0\\LocalCache\\local-packages\\Python310\\site-packages\\numpy\\core\\_methods.py:236: RuntimeWarning: overflow encountered in multiply\n",
      "  x = um.multiply(x, x, out=x)\n"
     ]
    },
    {
     "name": "stdout",
     "output_type": "stream",
     "text": [
      "336 20200803 2zDWjtjSxeUuy2or5XThZNSzvwO2\n",
      "337 20200901 IQSMEGOrc3XegUpIARWm07D2K2a2\n",
      "338 20201031 4AF7pgiASsYQQOw11X2wOFdFJjm1\n",
      "339 20220224 FxH3P9BpP0fmb5Ks4yRmkKOqqEO2\n",
      "340 20200416 UKnLR9FqNMSQ4rXR6iclPC4fknp2\n"
     ]
    },
    {
     "name": "stderr",
     "output_type": "stream",
     "text": [
      "C:\\Users\\Gan Jing Hao\\AppData\\Local\\Packages\\PythonSoftwareFoundation.Python.3.10_qbz5n2kfra8p0\\LocalCache\\local-packages\\Python310\\site-packages\\numpy\\core\\_methods.py:236: RuntimeWarning: overflow encountered in multiply\n",
      "  x = um.multiply(x, x, out=x)\n",
      "C:\\Users\\Gan Jing Hao\\AppData\\Local\\Packages\\PythonSoftwareFoundation.Python.3.10_qbz5n2kfra8p0\\LocalCache\\local-packages\\Python310\\site-packages\\numpy\\core\\_methods.py:247: RuntimeWarning: overflow encountered in reduce\n",
      "  ret = umr_sum(x, axis, dtype, out, keepdims=keepdims, where=where)\n"
     ]
    },
    {
     "name": "stdout",
     "output_type": "stream",
     "text": [
      "341 20220224 a9X6xtssHmN37RNiZMwVMmVUXGE3\n",
      "342 20200424 AxuYWBN0jFVLINCBqIW5aZmGCdu1\n",
      "343 20200504 K8QeHIukfghK4kOQx8LnffbLWP12\n",
      "344 20200525 IQJWFucM7GbQ00iw3lt2UvBFzaW2\n",
      "345 20200504 vtgAUePTOhhqlyo7DiNxlnghA6h1\n",
      "346 20210419 dLWRBpUZo7ddqJup4t3C2TwiVqA3\n",
      "347 20200416 iIAyplBPqGgFXKzvpIxFlcTgb4r2\n",
      "348 20200901 cf4RgKotFbYPn2HsLdxHyiChY3I2\n",
      "349 20200502 p5vVbB3dnSSw6SBYjsgsi1Hv4Eu1\n",
      "350 20200720 Afi7SdxjNOetySybYTZ7RPxwFiW2\n",
      "351 20210523 BG1rEPoPYKUAHCYVzPrcB3I6VUn2\n",
      "352 20201012 L9QbDvX4UtMhFOsYuh2aamY3VK23\n",
      "353 20200814 YvhPqG9MqhbjHErOmOctaNdVdJZ2\n",
      "354 20210603 dDvHec65MWh2REqq5mABZJvmlXI3\n",
      "355 20200416 0ujmfEsuhJRsGfbW3ttpSMjwJi73\n",
      "356 20200707 Ms3fiiaGeta2PNzjXEE3iMBmh1h1\n",
      "357 20200604 LyCZNUHMdqQtXwEox0mUHngB1Gx1\n",
      "358 20210930 RtRqhfGUUffisj4mpxA9nTYe2cw2\n",
      "359 20210419 TI4EfxQ4RSMZyRmFlC5aiAqLJL02\n",
      "360 20210930 WW9oVXsc3XdK0oO5RdE6WiQcz4k2\n",
      "361 20220116 Kuad8e7oYMd6GtWfjjz7P6kKkNt2\n",
      "362 20220224 pNPvP4O57CQfzKZJI3wRMtFhkFv1\n",
      "363 20200415 UYQqLbdvfMeQOnISZq4Okwuas6K2\n",
      "364 20200824 SCsTjixqXmWvyjniXtg7Pv54Amw2\n",
      "365 20210930 Tpz3FMkc1NPmXLufylt9YVf9NQG3\n"
     ]
    },
    {
     "name": "stderr",
     "output_type": "stream",
     "text": [
      "C:\\Users\\Gan Jing Hao\\AppData\\Local\\Packages\\PythonSoftwareFoundation.Python.3.10_qbz5n2kfra8p0\\LocalCache\\local-packages\\Python310\\site-packages\\numpy\\core\\_methods.py:236: RuntimeWarning: overflow encountered in multiply\n",
      "  x = um.multiply(x, x, out=x)\n"
     ]
    },
    {
     "name": "stdout",
     "output_type": "stream",
     "text": [
      "366 20210830 HHCj7IHQxUYQua8B2MKoCVtRWK63\n"
     ]
    },
    {
     "name": "stderr",
     "output_type": "stream",
     "text": [
      "C:\\Users\\Gan Jing Hao\\AppData\\Local\\Packages\\PythonSoftwareFoundation.Python.3.10_qbz5n2kfra8p0\\LocalCache\\local-packages\\Python310\\site-packages\\numpy\\core\\_methods.py:236: RuntimeWarning: overflow encountered in multiply\n",
      "  x = um.multiply(x, x, out=x)\n"
     ]
    },
    {
     "name": "stdout",
     "output_type": "stream",
     "text": [
      "367 20200814 Lz3Pu5AOFbQLTA8cIqRAmjPy8qw1\n",
      "368 20220224 m7BeEwKejfWnq3vftESulZhOOtw1\n",
      "369 20200417 rXM1xzEoPifwWHJUFngAdye7u112\n",
      "370 20210618 SOYq0vyRpWUxeRZyAeobsEfuXy83\n",
      "371 20210630 LPP0njvvovO1Wi3wq9IcMxJVyau1\n",
      "372 20210714 hCix5UmABWZVW40elRFgkGabPa52\n",
      "373 20200415 ZbFodPVPEZMK0DaH4J74kowt1d53\n",
      "374 20200707 tpCCClZhHxXqu31XbOhexT55KdP2\n",
      "375 20200502 34FItWuiLofMlaG1BmqHWVgHelh2\n",
      "376 20200502 K0LmigcBKlRdTAlrCyfmBJaQJwk1\n"
     ]
    },
    {
     "name": "stderr",
     "output_type": "stream",
     "text": [
      "C:\\Users\\Gan Jing Hao\\AppData\\Local\\Packages\\PythonSoftwareFoundation.Python.3.10_qbz5n2kfra8p0\\LocalCache\\local-packages\\Python310\\site-packages\\numpy\\core\\_methods.py:236: RuntimeWarning: overflow encountered in multiply\n",
      "  x = um.multiply(x, x, out=x)\n"
     ]
    },
    {
     "name": "stdout",
     "output_type": "stream",
     "text": [
      "377 20210830 WfMoLbztI3MUMQBU7SIDY08DPhf1\n"
     ]
    },
    {
     "name": "stderr",
     "output_type": "stream",
     "text": [
      "C:\\Users\\Gan Jing Hao\\AppData\\Local\\Packages\\PythonSoftwareFoundation.Python.3.10_qbz5n2kfra8p0\\LocalCache\\local-packages\\Python310\\site-packages\\numpy\\core\\_methods.py:180: RuntimeWarning: invalid value encountered in reduce\n",
      "  ret = umr_sum(arr, axis, dtype, out, keepdims, where=where)\n",
      "C:\\Users\\Gan Jing Hao\\AppData\\Local\\Packages\\PythonSoftwareFoundation.Python.3.10_qbz5n2kfra8p0\\LocalCache\\local-packages\\Python310\\site-packages\\numpy\\core\\_methods.py:213: RuntimeWarning: invalid value encountered in reduce\n",
      "  arrmean = umr_sum(arr, axis, dtype, keepdims=True, where=where)\n"
     ]
    },
    {
     "name": "stdout",
     "output_type": "stream",
     "text": [
      "378 20200930 YqPKZEEwQ6N51vs5ztJn2a1nVBN2\n"
     ]
    },
    {
     "name": "stderr",
     "output_type": "stream",
     "text": [
      "C:\\Users\\Gan Jing Hao\\AppData\\Local\\Packages\\PythonSoftwareFoundation.Python.3.10_qbz5n2kfra8p0\\LocalCache\\local-packages\\Python310\\site-packages\\numpy\\core\\_methods.py:236: RuntimeWarning: overflow encountered in multiply\n",
      "  x = um.multiply(x, x, out=x)\n",
      "C:\\Users\\Gan Jing Hao\\AppData\\Local\\Packages\\PythonSoftwareFoundation.Python.3.10_qbz5n2kfra8p0\\LocalCache\\local-packages\\Python310\\site-packages\\numpy\\core\\_methods.py:236: RuntimeWarning: overflow encountered in multiply\n",
      "  x = um.multiply(x, x, out=x)\n"
     ]
    },
    {
     "name": "stdout",
     "output_type": "stream",
     "text": [
      "379 20220224 X3HrcZGN2AWEsfkC3SLCKdsRlVd2\n",
      "380 20200417 yMd8IFHnWWYgs6CNSFypl9QhFGu1\n",
      "381 20220224 fcVeDp3DxDfTgsF9T98Kw7iAlUp1\n",
      "382 20200504 DINJ1hI4xpQ0fcf7TsZN4pjXrol2\n",
      "383 20200814 yTBcpP8fONc1QpKYqlaQDyo5DYy2\n",
      "384 20220224 aasl75Os1fPjkADrR05s39NLO1b2\n",
      "385 20200417 hmqyX7Xq7gMmLDSmb7MtmLc92R93\n",
      "386 20210930 h5dpLhaJtJbFGAGIaxq3z2KYv1u1\n",
      "387 20220224 1dz0fNTGHrSBX3PjBrZ8MabBGHg2\n",
      "388 20210406 EkvdE7B9zuaZEHjb80RflGGqsgz1\n",
      "389 20220224 QJretLfaNBYXLWlVqNW4zWn8pu83\n",
      "390 20220224 GmdcDlvwK6ZlbcgWqoRG13DVY2a2\n"
     ]
    },
    {
     "name": "stderr",
     "output_type": "stream",
     "text": [
      "C:\\Users\\Gan Jing Hao\\AppData\\Local\\Packages\\PythonSoftwareFoundation.Python.3.10_qbz5n2kfra8p0\\LocalCache\\local-packages\\Python310\\site-packages\\numpy\\core\\_methods.py:180: RuntimeWarning: invalid value encountered in reduce\n",
      "  ret = umr_sum(arr, axis, dtype, out, keepdims, where=where)\n",
      "C:\\Users\\Gan Jing Hao\\AppData\\Local\\Packages\\PythonSoftwareFoundation.Python.3.10_qbz5n2kfra8p0\\LocalCache\\local-packages\\Python310\\site-packages\\numpy\\core\\_methods.py:213: RuntimeWarning: invalid value encountered in reduce\n",
      "  arrmean = umr_sum(arr, axis, dtype, keepdims=True, where=where)\n"
     ]
    },
    {
     "name": "stdout",
     "output_type": "stream",
     "text": [
      "391 20200502 IBjSkzn7W6WpVSw49EXPM2ME75t2\n",
      "392 20220224 LQsa4bNXQKceD5Ale6G8U06erOY2\n"
     ]
    },
    {
     "name": "stderr",
     "output_type": "stream",
     "text": [
      "C:\\Users\\Gan Jing Hao\\AppData\\Local\\Packages\\PythonSoftwareFoundation.Python.3.10_qbz5n2kfra8p0\\LocalCache\\local-packages\\Python310\\site-packages\\numpy\\core\\_methods.py:247: RuntimeWarning: overflow encountered in reduce\n",
      "  ret = umr_sum(x, axis, dtype, out, keepdims=keepdims, where=where)\n"
     ]
    },
    {
     "name": "stdout",
     "output_type": "stream",
     "text": [
      "393 20220224 T74FXG0dqHQrGsy3niZS72QFSXh2\n",
      "394 20220116 A21aoZx56kXiMAj3zwl05qtlDRB2\n",
      "395 20200416 jtTWQOkCx0RG5LBfKnPekeYuhMD2\n",
      "396 20200502 IP6mdjKfmKNgsLLT110MkgGvWK02\n",
      "397 20220116 35fVudVN58gedyC3GGZKjC6UP2i2\n",
      "398 20210419 3YsglsCX5US6WkSzHZAgt5F1C1y1\n",
      "399 20210816 o5T5M7lfD0aUpgHcFprqdICYcgd2\n",
      "400 20220224 nYJ379rs2rcucw03Z14lsv10w9O2\n",
      "401 20200416 7sW9NvDUCfWdCR5bPANiS05bqRc2\n",
      "402 20210618 A7tcR4TNNfYhbtnLDTckg6yUVho1\n",
      "403 20220224 xw4kwRKpdjWlbpUxJf0MY3LA4aX2\n",
      "404 20210714 u7b9tNSshrPFYAno8H85DgImH1B3\n",
      "405 20210618 vAdIAlGCrWPPwUGYxkFopen6zq03\n",
      "406 20200901 gpcoorcyfuXQZxcUFTxthUKOua03\n",
      "407 20201012 R9EJURFbJjRNEl9lmQZw1gfs08J3\n",
      "408 20200820 WNCUJW2QH9fEcsSUztikS1Zvoyn1\n",
      "409 20220224 cRnIfDfUepcQo77jgnBR8ycZ5Lk2\n",
      "410 20200604 uHPhyLsj5eYghJQOYj7iXa0fyOE3\n",
      "411 20200417 y7dTHpmIaYgPwbazH5f8o57WHoH3\n"
     ]
    },
    {
     "name": "stderr",
     "output_type": "stream",
     "text": [
      "C:\\Users\\Gan Jing Hao\\AppData\\Local\\Packages\\PythonSoftwareFoundation.Python.3.10_qbz5n2kfra8p0\\LocalCache\\local-packages\\Python310\\site-packages\\numpy\\core\\_methods.py:236: RuntimeWarning: overflow encountered in multiply\n",
      "  x = um.multiply(x, x, out=x)\n"
     ]
    },
    {
     "name": "stdout",
     "output_type": "stream",
     "text": [
      "412 20200416 3W9lHLbMzRVftjy3sxNnXwOTy6q1\n",
      "413 20201031 L4CfZQwjukPm0evQv5dI2JDH4ov1\n",
      "414 20220224 lWiEA3vTOsSt3Ceoi6FajvWJoCG3\n",
      "415 20200415 RXZtiZlgDxObuYr4m2s8eSavVg72\n",
      "416 20200415 HxbOUFGbq4fKbs0nTLUQ5UmlZ9y2\n"
     ]
    },
    {
     "name": "stderr",
     "output_type": "stream",
     "text": [
      "C:\\Users\\Gan Jing Hao\\AppData\\Local\\Packages\\PythonSoftwareFoundation.Python.3.10_qbz5n2kfra8p0\\LocalCache\\local-packages\\Python310\\site-packages\\numpy\\core\\_methods.py:180: RuntimeWarning: invalid value encountered in reduce\n",
      "  ret = umr_sum(arr, axis, dtype, out, keepdims, where=where)\n",
      "C:\\Users\\Gan Jing Hao\\AppData\\Local\\Packages\\PythonSoftwareFoundation.Python.3.10_qbz5n2kfra8p0\\LocalCache\\local-packages\\Python310\\site-packages\\numpy\\core\\_methods.py:213: RuntimeWarning: invalid value encountered in reduce\n",
      "  arrmean = umr_sum(arr, axis, dtype, keepdims=True, where=where)\n"
     ]
    },
    {
     "name": "stdout",
     "output_type": "stream",
     "text": [
      "417 20200814 3FD9salx6KQf114qJSSvW74Ffi63\n",
      "418 20201221 CUCqq4q5SQa3fDkpraekej7fNza2\n",
      "419 20200416 1BFTsgEVsJdltjiXvECDOi35nT53\n",
      "420 20220224 NhpkbSR5BhS1lDGqM04SNmQ6Cbu2\n",
      "421 20210630 9LeA2huuxDSLRdAnmFMquSbqJPq1\n"
     ]
    },
    {
     "name": "stderr",
     "output_type": "stream",
     "text": [
      "C:\\Users\\Gan Jing Hao\\AppData\\Local\\Packages\\PythonSoftwareFoundation.Python.3.10_qbz5n2kfra8p0\\LocalCache\\local-packages\\Python310\\site-packages\\numpy\\core\\_methods.py:180: RuntimeWarning: invalid value encountered in reduce\n",
      "  ret = umr_sum(arr, axis, dtype, out, keepdims, where=where)\n",
      "C:\\Users\\Gan Jing Hao\\AppData\\Local\\Packages\\PythonSoftwareFoundation.Python.3.10_qbz5n2kfra8p0\\LocalCache\\local-packages\\Python310\\site-packages\\numpy\\core\\_methods.py:213: RuntimeWarning: invalid value encountered in reduce\n",
      "  arrmean = umr_sum(arr, axis, dtype, keepdims=True, where=where)\n"
     ]
    },
    {
     "name": "stdout",
     "output_type": "stream",
     "text": [
      "422 20210914 j9T8xrIEr4Z6BzX8bGfzYkDybIM2\n"
     ]
    },
    {
     "name": "stderr",
     "output_type": "stream",
     "text": [
      "C:\\Users\\Gan Jing Hao\\AppData\\Local\\Packages\\PythonSoftwareFoundation.Python.3.10_qbz5n2kfra8p0\\LocalCache\\local-packages\\Python310\\site-packages\\numpy\\core\\_methods.py:236: RuntimeWarning: overflow encountered in multiply\n",
      "  x = um.multiply(x, x, out=x)\n"
     ]
    },
    {
     "name": "stdout",
     "output_type": "stream",
     "text": [
      "423 20210930 MBs72wy9MATqbupZbIaYYCzj7dg1\n",
      "424 20200416 vMGhws3ezYdCMfegQ6GXlLxmdGJ3\n",
      "425 20220224 NLFfhKmlh1gmhwEeIoBcVD3EjYz2\n",
      "426 20210930 Eg9ruIHboWO7h59MkqSHGAjgZyz1\n",
      "427 20210930 NdKb06TNBJf7YHQwfJ9O6eT7fP72\n",
      "428 20200417 xthD326W2odUKmaURdpqoX18XEW2\n",
      "429 20200525 eTJRhMtqLcO1Q8rLtaIsALyTOyC3\n",
      "430 20200419 GANtY5XDqOUFMC2lEizSdBuainB2\n",
      "431 20200419 OnSOmvzzE2WLcwfrSyNbh0B89n72\n",
      "432 20220224 xSf245CWofXICvNTo7WVBwfaBmf1\n",
      "433 20210714 uaUsXn0xVLYPvKNaxmTkn3WnQnM2\n",
      "434 20200416 CwGGsPFeFQPwRy8ba33e8SXGS132\n",
      "435 20210930 DiFXnzp1b5UwVXpNPKPaIH1fTWd2\n"
     ]
    },
    {
     "name": "stderr",
     "output_type": "stream",
     "text": [
      "C:\\Users\\Gan Jing Hao\\AppData\\Local\\Packages\\PythonSoftwareFoundation.Python.3.10_qbz5n2kfra8p0\\LocalCache\\local-packages\\Python310\\site-packages\\numpy\\core\\_methods.py:236: RuntimeWarning: overflow encountered in multiply\n",
      "  x = um.multiply(x, x, out=x)\n"
     ]
    },
    {
     "name": "stdout",
     "output_type": "stream",
     "text": [
      "436 20200419 Y5YzktJpmdMp3h3YOTEWcxE41F83\n",
      "437 20200525 gH4tLBmPiFWp96S6j3z0wjKYhab2\n",
      "438 20210206 eiJE5pZGVMOmSsG6dLBLxAuXNzf2\n",
      "439 20200417 XQVpgnaYz4NHmXRFWov9lBKP1tg1\n",
      "440 20200525 MjbZoe5Xl6gQAFFZAjORLjIZoC93\n"
     ]
    },
    {
     "name": "stderr",
     "output_type": "stream",
     "text": [
      "C:\\Users\\Gan Jing Hao\\AppData\\Local\\Packages\\PythonSoftwareFoundation.Python.3.10_qbz5n2kfra8p0\\LocalCache\\local-packages\\Python310\\site-packages\\numpy\\core\\_methods.py:236: RuntimeWarning: overflow encountered in multiply\n",
      "  x = um.multiply(x, x, out=x)\n"
     ]
    },
    {
     "name": "stdout",
     "output_type": "stream",
     "text": [
      "441 20210914 k63JSSUHNSTZQa8tyVKT6wMPwoz2\n",
      "442 20210603 El8HRprt4FVF6QG4dHoKLFbARSc2\n"
     ]
    },
    {
     "name": "stderr",
     "output_type": "stream",
     "text": [
      "C:\\Users\\Gan Jing Hao\\AppData\\Local\\Packages\\PythonSoftwareFoundation.Python.3.10_qbz5n2kfra8p0\\LocalCache\\local-packages\\Python310\\site-packages\\numpy\\core\\_methods.py:247: RuntimeWarning: overflow encountered in reduce\n",
      "  ret = umr_sum(x, axis, dtype, out, keepdims=keepdims, where=where)\n",
      "C:\\Users\\Gan Jing Hao\\AppData\\Local\\Packages\\PythonSoftwareFoundation.Python.3.10_qbz5n2kfra8p0\\LocalCache\\local-packages\\Python310\\site-packages\\numpy\\core\\_methods.py:236: RuntimeWarning: overflow encountered in multiply\n",
      "  x = um.multiply(x, x, out=x)\n"
     ]
    },
    {
     "name": "stdout",
     "output_type": "stream",
     "text": [
      "443 20200413 1AuoEhB8vAfCtxTFFV0W916yBqA3\n",
      "444 20200814 IDotbUiFVpel1SpaktjKZftIVYx2\n",
      "445 20220116 9om37Xnu61hb4q03NB3ch5uKvfq2\n",
      "446 20210830 JdSI3od4d4Ug8bkVyX2HWSC28fv1\n"
     ]
    },
    {
     "name": "stderr",
     "output_type": "stream",
     "text": [
      "C:\\Users\\Gan Jing Hao\\AppData\\Local\\Packages\\PythonSoftwareFoundation.Python.3.10_qbz5n2kfra8p0\\LocalCache\\local-packages\\Python310\\site-packages\\numpy\\core\\_methods.py:236: RuntimeWarning: overflow encountered in multiply\n",
      "  x = um.multiply(x, x, out=x)\n"
     ]
    },
    {
     "name": "stdout",
     "output_type": "stream",
     "text": [
      "447 20200911 2vH4QMrMaMMm5oZYScY0b36Z8MC3\n",
      "448 20210507 DIzDEYclGHggfip2pfT4yW484bF2\n",
      "449 20200417 8EgdDA1cAtS34CbZDTuyPsJw51Z2\n",
      "450 20200901 T190nKNqKoPk02FHlHYJTBDUnPA2\n",
      "451 20210618 UZKdFMia0JWykTWi6T2PoXmS3nt2\n",
      "452 20200820 wXChdMlWemXwRdX642WnX6JbYfA2\n",
      "453 20200417 qvKy3g7enMOhjEGqHPtNrrrExQl2\n",
      "454 20220224 fMMGRNz55lVYoAlFivqjbw0tCo52\n",
      "455 20200504 GjdjAvKrnbRRRX1KbioknjMVLNx2\n",
      "456 20210406 FCo8orfgs5ZKKQV4T436XCoycht2\n",
      "457 20200417 L5tZkFTeajV4uDCQnvbWLNoG5az1\n",
      "458 20200525 YLjbjcoMy1bCh25iChGjXXTc8RK2\n",
      "459 20210603 KjPE6JknuWfX4UQtWrWP0h21Bmo2\n",
      "460 20200504 uSboUuoU77ZRC3vwywgE8XqvzQu1\n",
      "461 20200707 stnT0xsBXhb159fZrbzN9kwAKvF2\n",
      "462 20200418 VQVtmKC3HwVHbY1xMTued5OOP4E2\n",
      "463 20200504 6OVT42wvVggUA7rkEuziRRtNNuo2\n",
      "464 20200502 ykpL1HVINBYQdqFtTk9IPAtC2FG3\n",
      "465 20210930 XULw9m5p4Xb2eWMoWDhX0AqRCfB3\n",
      "466 20210830 nuAs0qnqcLapO4Hid78HOIyIc7f1\n",
      "467 20220224 dZvjWWbzA8ZHagEibhMy4sJdd1n2\n",
      "468 20210406 KFtd9lY6jph5cl2VrZ9Nv8Jng7p1\n",
      "469 20200525 1swHxN9xPFUu90g29z2RMCxG3oJ2\n",
      "470 20220116 8Oot6FsWpdgyMs1eXi5PeTlHkO22\n",
      "471 20200430 PWXapCML3JSGefaCRAxKjCNp0Ps2\n",
      "472 20200415 2SLFvRD3jTUJc8iOMnN2XHG3uXv1\n",
      "473 20220116 sIKq37c6fsTflqc5kRVFEBhKwAh1\n",
      "474 20200502 dGnCoUaAVqQqp1p7Kr74K87Hm2D2\n",
      "475 20210618 zGjGkKCAjkdA9S3aSreocxkWf0C2\n",
      "476 20220116 2NLN1vsBcwMF0cJ0g6tNDLVSpH33\n"
     ]
    },
    {
     "name": "stderr",
     "output_type": "stream",
     "text": [
      "C:\\Users\\Gan Jing Hao\\AppData\\Local\\Packages\\PythonSoftwareFoundation.Python.3.10_qbz5n2kfra8p0\\LocalCache\\local-packages\\Python310\\site-packages\\numpy\\core\\_methods.py:236: RuntimeWarning: overflow encountered in multiply\n",
      "  x = um.multiply(x, x, out=x)\n"
     ]
    },
    {
     "name": "stdout",
     "output_type": "stream",
     "text": [
      "477 20200901 xsGViRLscNeryc3TyMt1eqmOt0C2\n",
      "478 20200424 yWp5tMRFDzbbeEe2csKNd909fqh1\n",
      "479 20220224 uK2zufVH98RcjRV1JaGJ5BYtWrE2\n",
      "480 20220224 v9YIASAWTaXWjBgZGMCXTOmTF9S2\n",
      "481 20200416 hTXACBsoo2XasDWx8U9y7kzs8rc2\n"
     ]
    },
    {
     "name": "stderr",
     "output_type": "stream",
     "text": [
      "C:\\Users\\Gan Jing Hao\\AppData\\Local\\Packages\\PythonSoftwareFoundation.Python.3.10_qbz5n2kfra8p0\\LocalCache\\local-packages\\Python310\\site-packages\\numpy\\core\\_methods.py:247: RuntimeWarning: overflow encountered in reduce\n",
      "  ret = umr_sum(x, axis, dtype, out, keepdims=keepdims, where=where)\n",
      "C:\\Users\\Gan Jing Hao\\AppData\\Local\\Packages\\PythonSoftwareFoundation.Python.3.10_qbz5n2kfra8p0\\LocalCache\\local-packages\\Python310\\site-packages\\numpy\\core\\_methods.py:180: RuntimeWarning: invalid value encountered in reduce\n",
      "  ret = umr_sum(arr, axis, dtype, out, keepdims, where=where)\n",
      "C:\\Users\\Gan Jing Hao\\AppData\\Local\\Packages\\PythonSoftwareFoundation.Python.3.10_qbz5n2kfra8p0\\LocalCache\\local-packages\\Python310\\site-packages\\numpy\\core\\_methods.py:213: RuntimeWarning: invalid value encountered in reduce\n",
      "  arrmean = umr_sum(arr, axis, dtype, keepdims=True, where=where)\n"
     ]
    },
    {
     "name": "stdout",
     "output_type": "stream",
     "text": [
      "482 20200419 l4rsSAm6LtVu9k22v8PJnYp1pnC3\n",
      "483 20200417 w3QJygDVetN5sPAsKTXe273bpau2\n",
      "484 20200416 8ZV97Hmq6VSrBRqWaiOLx44cHY33\n",
      "485 20200707 f4wYeTyCImQ0BQiwBOlScS9C2H03\n"
     ]
    },
    {
     "name": "stderr",
     "output_type": "stream",
     "text": [
      "C:\\Users\\Gan Jing Hao\\AppData\\Local\\Packages\\PythonSoftwareFoundation.Python.3.10_qbz5n2kfra8p0\\LocalCache\\local-packages\\Python310\\site-packages\\numpy\\core\\_methods.py:236: RuntimeWarning: overflow encountered in multiply\n",
      "  x = um.multiply(x, x, out=x)\n"
     ]
    },
    {
     "name": "stdout",
     "output_type": "stream",
     "text": [
      "486 20200814 D31ydMgq8wMpO9OOGwxpMfOp9qg1\n",
      "487 20200415 IH5AenjC1DTmH4Rw4PhvnaKHbmw2\n"
     ]
    },
    {
     "name": "stderr",
     "output_type": "stream",
     "text": [
      "C:\\Users\\Gan Jing Hao\\AppData\\Local\\Packages\\PythonSoftwareFoundation.Python.3.10_qbz5n2kfra8p0\\LocalCache\\local-packages\\Python310\\site-packages\\numpy\\core\\_methods.py:236: RuntimeWarning: overflow encountered in multiply\n",
      "  x = um.multiply(x, x, out=x)\n"
     ]
    },
    {
     "name": "stdout",
     "output_type": "stream",
     "text": [
      "488 20200417 Hx0gMpwXrbhBp9SV7clzSDQ50EM2\n",
      "489 20200919 BTq6ZzkM2pdcUmgtOHVP4GG5wvZ2\n",
      "490 20200502 qqMKI7lvNFO8aQqGkWs0lvww3zJ2\n",
      "491 20210714 6yut3EO9tXPCCY8O0VDWA5PCWYN2\n",
      "492 20200416 JqVURYFKRWXXcxYNrqGTVte8IIJ3\n",
      "493 20220116 NvkF7OGMmUUYsJZLiLieHb7NeT12\n",
      "494 20210830 vFza08UgTCeTCSraW8F2mW5rpg42\n",
      "495 20210816 08tlSbvXpAggZavIGW994adhh1m1\n",
      "496 20210714 lRsw8buO7jQSHGzSWIOPW5JboM82\n",
      "497 20210507 LF7wSEDpWafkz5bwtxnFuho9iWz1\n"
     ]
    },
    {
     "name": "stderr",
     "output_type": "stream",
     "text": [
      "C:\\Users\\Gan Jing Hao\\AppData\\Local\\Packages\\PythonSoftwareFoundation.Python.3.10_qbz5n2kfra8p0\\LocalCache\\local-packages\\Python310\\site-packages\\numpy\\core\\_methods.py:236: RuntimeWarning: overflow encountered in multiply\n",
      "  x = um.multiply(x, x, out=x)\n"
     ]
    },
    {
     "name": "stdout",
     "output_type": "stream",
     "text": [
      "498 20210618 0pqMnxeSybfQnGV9nHW3P69FSzE3\n",
      "499 20220224 HIfH8OY3VQYcGEsFKVNh9m9qYer1\n",
      "500 20210523 6cJV1rxhkYemRcp3DAl4sGdgEbf1\n",
      "501 20210507 RvmNXu1ssYaqxW3U5WXnX5aNOVU2\n",
      "502 20210406 C4Ide6Om9iaGO281jPr2JkYtjWi1\n"
     ]
    },
    {
     "name": "stderr",
     "output_type": "stream",
     "text": [
      "C:\\Users\\Gan Jing Hao\\AppData\\Local\\Packages\\PythonSoftwareFoundation.Python.3.10_qbz5n2kfra8p0\\LocalCache\\local-packages\\Python310\\site-packages\\numpy\\core\\_methods.py:236: RuntimeWarning: overflow encountered in multiply\n",
      "  x = um.multiply(x, x, out=x)\n",
      "C:\\Users\\Gan Jing Hao\\AppData\\Local\\Packages\\PythonSoftwareFoundation.Python.3.10_qbz5n2kfra8p0\\LocalCache\\local-packages\\Python310\\site-packages\\numpy\\core\\_methods.py:247: RuntimeWarning: overflow encountered in reduce\n",
      "  ret = umr_sum(x, axis, dtype, out, keepdims=keepdims, where=where)\n"
     ]
    },
    {
     "name": "stdout",
     "output_type": "stream",
     "text": [
      "503 20200418 uwWEy23DDNYBMukZ3lpzFQOlT7m2\n",
      "504 20220224 bAnZCxYt2eOcT94EddfvJIIyAKx2\n"
     ]
    },
    {
     "name": "stderr",
     "output_type": "stream",
     "text": [
      "C:\\Users\\Gan Jing Hao\\AppData\\Local\\Packages\\PythonSoftwareFoundation.Python.3.10_qbz5n2kfra8p0\\LocalCache\\local-packages\\Python310\\site-packages\\numpy\\core\\_methods.py:180: RuntimeWarning: invalid value encountered in reduce\n",
      "  ret = umr_sum(arr, axis, dtype, out, keepdims, where=where)\n",
      "C:\\Users\\Gan Jing Hao\\AppData\\Local\\Packages\\PythonSoftwareFoundation.Python.3.10_qbz5n2kfra8p0\\LocalCache\\local-packages\\Python310\\site-packages\\numpy\\core\\_methods.py:213: RuntimeWarning: invalid value encountered in reduce\n",
      "  arrmean = umr_sum(arr, axis, dtype, keepdims=True, where=where)\n"
     ]
    },
    {
     "name": "stdout",
     "output_type": "stream",
     "text": [
      "505 20220116 QjPGMdxS21byQxKSQYNWTnhmxlz1\n",
      "506 20200418 YNkZcKCX0mOhKIUO2VRQQd63ydn1\n",
      "507 20200930 46bIeJk9J8XrD4ND2IPRMQzjJBt2\n",
      "508 20200502 xwD2G8sZ9lbeSznnXmdsgrX35473\n",
      "509 20200919 vqIREUmn5CMqyrMHxlLVmcuN5qW2\n",
      "510 20200417 g9WjuKnjoYZYmLVDY86u4JIwZ333\n",
      "511 20200417 kirLJEuOWzYOWBeTC4CRHrTTRVv1\n",
      "512 20210816 TPnsR1P2IhOaM7CRI5arH344GAN2\n",
      "513 20201031 7R6vvnCDQcVBjNyh6TGtlx48eAZ2\n",
      "514 20200814 pvLLeiltxePL7csr2rkLJ8fD0gc2\n",
      "515 20220224 ghEGb7TXOzTRqpKJKn7Xy5MZTa03\n",
      "516 20220224 AMQjCiMY3BMrHMfAeXc4Z604Rlg1\n"
     ]
    }
   ],
   "source": [
    "df = pd.read_csv(\"test_data.csv\")\n",
    "df_with_features = pd.DataFrame()\n",
    "for i in range(0,len(df)):\n",
    "    row = df.iloc[i]\n",
    "    date, id = row[\"date\"], row[\"id\"]\n",
    "    for audio_name in AUDIO_FILE_TYPES:\n",
    "        try:\n",
    "            audio_path = f'./Extracted_data/{date}/{id}/{audio_name}.wav'\n",
    "            df_features_statistic = extract_audio_feature(audio_path, audio_name)\n",
    "            row = pd.concat([row, df_features_statistic])\n",
    "        except ValueError:\n",
    "            break\n",
    "    print(i, date, id)\n",
    "    df_with_features = df_with_features.append(row, ignore_index=True)\n",
    "df_with_features.to_csv(\"test_data_with_features_without_normalize.csv\", index=False)"
   ]
  }
 ],
 "metadata": {
  "kernelspec": {
   "display_name": "Python 3",
   "language": "python",
   "name": "python3"
  },
  "language_info": {
   "codemirror_mode": {
    "name": "ipython",
    "version": 3
   },
   "file_extension": ".py",
   "mimetype": "text/x-python",
   "name": "python",
   "nbconvert_exporter": "python",
   "pygments_lexer": "ipython3",
   "version": "3.10.10"
  },
  "orig_nbformat": 4,
  "vscode": {
   "interpreter": {
    "hash": "9acbf15772ece740e1f8342a5d006b8dd87c3c65a551fa4def470a658884a73b"
   }
  }
 },
 "nbformat": 4,
 "nbformat_minor": 2
}
