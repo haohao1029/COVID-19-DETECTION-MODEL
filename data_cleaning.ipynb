{
 "cells": [
  {
   "cell_type": "code",
   "execution_count": 1,
   "metadata": {},
   "outputs": [],
   "source": [
    "import os\n",
    "import soundfile as sf\n",
    "from glob import glob\n",
    "import shutil\n",
    "import numpy as np"
   ]
  },
  {
   "cell_type": "code",
   "execution_count": 3,
   "metadata": {},
   "outputs": [
    {
     "name": "stdout",
     "output_type": "stream",
     "text": [
      "Deleting Extracted_data/20200418/shKIgOZPRZWiewJ3vr9gCkx9ebw1 because breathing-shallow is empty\n",
      "Deleting Extracted_data/20200424/iV3Db6t1T8b7c5HQY2TwxIhjbzD3 because breathing-deep is empty\n",
      "Deleting Extracted_data/20200424/pOZwqBg4NsVYWASmwwhXFq4UlpC2 because breathing-shallow is empty\n",
      "Deleting Extracted_data/20200424/R4AY1hLOZtUJRsYeDGgGZR4sKVP2 because breathing-shallow is empty\n",
      "Deleting Extracted_data/20200430/Jw7YMfwGqMX22UbHh1TTgYMTYWs1 because counting-fast is empty\n",
      "Deleting Extracted_data/20200504/qkdJKHOBuAYsKvnxbLvnoJ5Dc8y2 because cough-heavy is empty\n",
      "Deleting Extracted_data/20200505/0M4YhLM7FwWO5IjCqhi7MlBhvJv2 because cough-heavy is empty\n",
      "Deleting Extracted_data/20200505/GBZ88OAxQfg6NBTxjDRI0Pf59mq1 because cough-shallow is empty\n",
      "Deleting Extracted_data/20200525/F2sQBi45ZdZMn8gQdcQB5wklMct2 because breathing-shallow is empty\n",
      "Deleting Extracted_data/20200604/aLeBZp6qmVVooQsTvP1ptnQk9IS2 because breathing-shallow is empty\n",
      "Deleting Extracted_data/20200707/fYjYHeLgCOUf5m1f8EAgGDol5G73 because cough-shallow is empty\n",
      "Deleting Extracted_data/20200707/x8PvE190nSZUtv8raWxfg76ek6p2 because counting-fast is empty\n",
      "Deleting Extracted_data/20200803/s3gFlexwXGaT6sBmU6g82B6Zczh2 because vowel-o is empty\n",
      "Deleting Extracted_data/20200820/fuCq7eA5CPYcnRpJqc0hFSr8klr2 because cough-heavy is empty\n",
      "Deleting Extracted_data/20200901/xrVSOYVRn2RTVm7arbPJztWNCoI3 because breathing-shallow is empty\n",
      "Deleting Extracted_data/20201031/KoN8x5OLC9fxkriFn7LVIONyMdy2 because breathing-shallow is empty\n",
      "Deleting Extracted_data/20201130/IWZidWG1Y3aIbwBNfyR5P9rt0O82 because cough-heavy is empty\n",
      "Deleting Extracted_data/20210406/0mkAUAbpROMIFjKpdFxlUnYTV262 because cough-heavy is empty\n",
      "Deleting Extracted_data/20210406/NcPBzMBBxNbjK84kdCv2z4IJzLC3 because cough-heavy is empty\n",
      "Deleting Extracted_data/20210419/BOVL8U9dmKWYsaPdV6b0EZkHuNo1 because breathing-shallow is empty\n",
      "Deleting Extracted_data/20210603/HK3FfcI5SyXc7CtQMaQiMQ2ia1n2 because breathing-deep is empty\n",
      "Deleting Extracted_data/20210603/I61f49auZgdsWBUYQq4BQ5gRwaC2 because counting-fast is empty\n",
      "Deleting Extracted_data/20210714/J2KBR20S1lOfFS2iA7UyuOBOmgq1 because cough-heavy is empty\n",
      "Deleting Extracted_data/20210816/0dfJArS4xbNhay72hpzOvlHkpIj2 because cough-heavy is empty\n",
      "Deleting Extracted_data/20210830/bg0A9VSw8yUI2XHBYnyjRTF6Yk83 because cough-heavy is empty\n",
      "Deleting Extracted_data/20210830/drfMOiYPMLOOOLejs4s2rW8HQau2 because cough-heavy is empty\n",
      "Deleting Extracted_data/20210930/1NQvmLMrJyTwrmbNwAm6wDT4wpz2 because cough-heavy is empty\n",
      "Deleting Extracted_data/20210930/cLcriOknOebRZSFfeQlcUNYzbZL2 because counting-fast is empty\n",
      "Deleting Extracted_data/20210930/eR2gfqeYAjdgzpwtCDXUqts9yIc2 because cough-heavy is empty\n",
      "Deleting Extracted_data/20210930/yTldbEFYIkOvoaY6f0elulpdzxQ2 because cough-heavy is empty\n",
      "Deleting Extracted_data/20220116/78ZjqzoMgLTlZUCp9LB6pz4Kv1r2 because breathing-shallow is empty\n",
      "Deleting Extracted_data/20220116/DzSbdHq5VTZB8CaVDWSnSUai5mt2 because cough-heavy is empty\n",
      "Deleting Extracted_data/20220116/MWF1WUgBGQS05cfv99clU2TRwfE3 because breathing-shallow is empty\n",
      "Deleting Extracted_data/20220116/npdYHgmoGnN0QslTqGQd2i28LMo1 because cough-heavy is empty\n",
      "Deleting Extracted_data/20220116/PoETIUPxf3bQxPnN4Vy1Hp2trbs1 because breathing-shallow is empty\n",
      "Deleting Extracted_data/20220116/RTdaG8BEFddelW356HEJVtlY6z13 because breathing-shallow is empty\n",
      "Deleting Extracted_data/20220116/y3qWUVLhMeQvpdfsClkugyMnBmH3 because cough-heavy is empty\n",
      "Deleting Extracted_data/20220224/4mppkDcGHlS2FmRhE2GYVAZYwR12 because breathing-shallow is empty\n",
      "Deleting Extracted_data/20220224/4pr6vH1YsRSSIZ5emGxwI9kfvMn2 because breathing-shallow is empty\n",
      "Deleting Extracted_data/20220224/Av6FZHufsAZ6ZU6CTPmijNQF3012 because breathing-shallow is empty\n",
      "Deleting Extracted_data/20220224/bKddV39xTWVc3QHcJHxDsNPRKm13 because breathing-shallow is empty\n",
      "Deleting Extracted_data/20220224/ceOoyqaUJFM9dG1pl188x3niwCw1 because breathing-deep is empty\n",
      "Deleting Extracted_data/20220224/eK8ikIYnLQPWGetLBHzkJVCGfpq2 because breathing-shallow is empty\n",
      "Deleting Extracted_data/20220224/hHAmFdouFlbksh9Fwrgo5DbX1Ai2 because counting-normal is empty\n",
      "Deleting Extracted_data/20220224/I2w0azDSEggYdIwwaOA8cJH5vsY2 because breathing-shallow is empty\n",
      "Deleting Extracted_data/20220224/jL3eXb5yBZUgGYVnt7wflaNZ2D03 because breathing-shallow is empty\n",
      "Deleting Extracted_data/20220224/jUpp0ZE3DUML6TjJMeCuJidGPPX2 because breathing-shallow is empty\n",
      "Deleting Extracted_data/20220224/KeXyzl8nb3ZRd08vW0i0ujXHYSG2 because breathing-shallow is empty\n",
      "Deleting Extracted_data/20220224/mdFe3i4I7haQAng2mO3CV1mJapt2 because breathing-deep is empty\n",
      "Deleting Extracted_data/20220224/ndX6X0QMaFYl2McmhiX5xQjF6qG2 because breathing-deep is empty\n",
      "Deleting Extracted_data/20220224/NjpLizUXksYbMCzBMJ2cokYmNSb2 because cough-heavy is empty\n",
      "Deleting Extracted_data/20220224/oNzUm6ghBGZOeh6dVxhq6uqxzL23 because breathing-shallow is empty\n",
      "Deleting Extracted_data/20220224/qxJxoaRLxJbV5uoKouWW2dl4nf43 because breathing-shallow is empty\n",
      "Deleting Extracted_data/20220224/RpIKOfFOrAQVV6HKiKOYoeuOvnW2 because breathing-shallow is empty\n",
      "Deleting Extracted_data/20220224/S4mqUrR1ryRwv4Ylz3eSf5pceo62 because breathing-shallow is empty\n",
      "Deleting Extracted_data/20220224/Wmyru2tTpETZZUPASSqg7gJjev02 because cough-heavy is empty\n",
      "Deleting Extracted_data/20220224/XgaNx3dH4DftejsL7GLYmBH9WKs2 because breathing-shallow is empty\n",
      "Deleting Extracted_data/20220224/YRn1xdEIHufqa6lRl35Lg1YUXoJ3 because cough-heavy is empty\n",
      "Deleting Extracted_data/20220224/zl0ycIoAzhSJU1xsyLSNCDQA9Rr2 because cough-heavy is empty\n"
     ]
    }
   ],
   "source": [
    "METADATA_FILES = glob(\"Extracted_data/*/*/metadata.json\")[:]\n",
    "AUDIO_FILE_TYPES = [\n",
    "    \"cough-heavy\",\n",
    "    \"cough-shallow\",\n",
    "    \"breathing-shallow\",\n",
    "    \"breathing-deep\",\n",
    "    \"counting-fast\",\n",
    "    \"counting-normal\",\n",
    "    \"vowel-a\",\n",
    "    \"vowel-e\",\n",
    "    \"vowel-o\"\n",
    "]\n",
    "for i in range(len(METADATA_FILES)):\n",
    "    metadata_file = METADATA_FILES[i]\n",
    "    date = METADATA_FILES[i].split('\\\\')[1]\n",
    "    id = METADATA_FILES[i].split('\\\\')[2]\n",
    "    for audio_file_type in AUDIO_FILE_TYPES:\n",
    "        audio_file = f\"Extracted_data/{date}/{id}/{audio_file_type}.wav\"\n",
    "        if os.path.exists(audio_file):\n",
    "            signal, samplerate = sf.read(audio_file)\n",
    "            if np.mean(signal) ==0 or len(signal) == 0:\n",
    "                print(\"Deleting\", f\"Extracted_data/{date}/{id}\", \"because\", audio_file_type, \"is empty\")\n",
    "                shutil.rmtree(f\"Extracted_data/{date}/{id}\")\n",
    "                break\n",
    "        else:\n",
    "            shutil.rmtree(f\"Extracted_data/{date}/{id}\")\n",
    "            break"
   ]
  }
 ],
 "metadata": {
  "kernelspec": {
   "display_name": "Python 3",
   "language": "python",
   "name": "python3"
  },
  "language_info": {
   "codemirror_mode": {
    "name": "ipython",
    "version": 3
   },
   "file_extension": ".py",
   "mimetype": "text/x-python",
   "name": "python",
   "nbconvert_exporter": "python",
   "pygments_lexer": "ipython3",
   "version": "3.10.10"
  },
  "orig_nbformat": 4,
  "vscode": {
   "interpreter": {
    "hash": "9acbf15772ece740e1f8342a5d006b8dd87c3c65a551fa4def470a658884a73b"
   }
  }
 },
 "nbformat": 4,
 "nbformat_minor": 2
}
