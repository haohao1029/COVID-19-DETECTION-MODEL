{
 "cells": [
  {
   "cell_type": "code",
   "execution_count": 1,
   "metadata": {},
   "outputs": [],
   "source": [
    "import os\n",
    "import soundfile as sf\n",
    "from glob import glob\n",
    "import shutil\n",
    "import numpy as np"
   ]
  },
  {
   "cell_type": "code",
   "execution_count": 2,
   "metadata": {},
   "outputs": [],
   "source": [
    "METADATA_FILES = glob(\"Extracted_data/*/*/metadata.json\")[:]\n",
    "AUDIO_FILE_TYPES = [\n",
    "    \"cough-heavy\",\n",
    "    \"cough-shallow\",\n",
    "    \"breathing-shallow\",\n",
    "    \"breathing-deep\",\n",
    "    \"counting-fast\",\n",
    "    \"counting-normal\",\n",
    "    \"vowel-a\",\n",
    "    \"vowel-e\",\n",
    "    \"vowel-o\"\n",
    "]\n",
    "for i in range(len(METADATA_FILES)):\n",
    "    metadata_file = METADATA_FILES[i]\n",
    "    date = METADATA_FILES[i].split('\\\\')[1]\n",
    "    id = METADATA_FILES[i].split('\\\\')[2]\n",
    "    for audio_file_type in AUDIO_FILE_TYPES:\n",
    "        audio_file = f\"Extracted_data/{date}/{id}/{audio_file_type}.wav\"\n",
    "        if os.path.exists(audio_file):\n",
    "            signal, samplerate = sf.read(audio_file)\n",
    "            if np.mean(signal) ==0 or len(signal) == 0:\n",
    "                print(\"Deleting\", f\"Extracted_data/{date}/{id}\", \"because\", audio_file_type, \"is empty\")\n",
    "                shutil.rmtree(f\"Extracted_data/{date}/{id}\")\n",
    "                break\n",
    "        else:\n",
    "            shutil.rmtree(f\"Extracted_data/{date}/{id}\")\n",
    "            break"
   ]
  }
 ],
 "metadata": {
  "kernelspec": {
   "display_name": "Python 3",
   "language": "python",
   "name": "python3"
  },
  "language_info": {
   "codemirror_mode": {
    "name": "ipython",
    "version": 3
   },
   "file_extension": ".py",
   "mimetype": "text/x-python",
   "name": "python",
   "nbconvert_exporter": "python",
   "pygments_lexer": "ipython3",
   "version": "3.10.10"
  },
  "orig_nbformat": 4,
  "vscode": {
   "interpreter": {
    "hash": "9acbf15772ece740e1f8342a5d006b8dd87c3c65a551fa4def470a658884a73b"
   }
  }
 },
 "nbformat": 4,
 "nbformat_minor": 2
}
