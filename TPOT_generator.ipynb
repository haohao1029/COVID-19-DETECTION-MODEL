{
 "cells": [
  {
   "cell_type": "code",
   "execution_count": 1,
   "metadata": {},
   "outputs": [
    {
     "name": "stderr",
     "output_type": "stream",
     "text": [
      "C:\\Users\\Gan Jing Hao\\AppData\\Local\\Packages\\PythonSoftwareFoundation.Python.3.10_qbz5n2kfra8p0\\LocalCache\\local-packages\\Python310\\site-packages\\tqdm\\auto.py:22: TqdmWarning: IProgress not found. Please update jupyter and ipywidgets. See https://ipywidgets.readthedocs.io/en/stable/user_install.html\n",
      "  from .autonotebook import tqdm as notebook_tqdm\n"
     ]
    }
   ],
   "source": [
    "from tpot import TPOTClassifier\n",
    "from sklearn.datasets import load_iris\n",
    "import pandas as pd\n",
    "import numpy as np\n"
   ]
  },
  {
   "cell_type": "code",
   "execution_count": 2,
   "metadata": {},
   "outputs": [
    {
     "name": "stderr",
     "output_type": "stream",
     "text": [
      "C:\\Users\\Gan Jing Hao\\AppData\\Local\\Temp\\ipykernel_22176\\3869224371.py:2: DtypeWarning: Columns (0) have mixed types. Specify dtype option on import or set low_memory=False.\n",
      "  train = pd.read_csv('./dataset/final_train.csv')\n"
     ]
    }
   ],
   "source": [
    "# Load train data from final_train.csv\n",
    "train = pd.read_csv('./dataset/final_train.csv')\n",
    "\n",
    "# drop first 2 columns\n",
    "train = train.drop(train.columns[[0, 1]], axis=1)\n",
    "\n",
    "# X Y\n",
    "X_train = train.drop(['is_positive'], axis=1)\n",
    "y_train = train['is_positive']\n",
    "\n",
    "\n",
    "test = pd.read_csv('./dataset/final_test.csv')\n",
    "\n",
    "# drop first 2 columns\n",
    "test = test.drop(test.columns[[0, 1]], axis=1)\n",
    "\n",
    "X_test = test.drop(['is_positive'], axis=1)\n",
    "y_test = test['is_positive']"
   ]
  },
  {
   "cell_type": "code",
   "execution_count": null,
   "metadata": {},
   "outputs": [],
   "source": [
    "\n",
    "\n",
    "# Initialize TPOT\n",
    "tpot = TPOTClassifier(generations=5, population_size=50, verbosity=2, random_state=42)\n",
    "\n",
    "# Train TPOT on training data\n",
    "tpot.fit(X_train, y_train)\n",
    "\n",
    "# Evaluate TPOT on test data\n",
    "print(tpot.score(X_test, y_test))\n",
    "\n",
    "# Export the generated code\n",
    "tpot.export('./model/covid_19_detection_pipeline.py')\n"
   ]
  }
 ],
 "metadata": {
  "kernelspec": {
   "display_name": "Python 3",
   "language": "python",
   "name": "python3"
  },
  "language_info": {
   "codemirror_mode": {
    "name": "ipython",
    "version": 3
   },
   "file_extension": ".py",
   "mimetype": "text/x-python",
   "name": "python",
   "nbconvert_exporter": "python",
   "pygments_lexer": "ipython3",
   "version": "3.10.10"
  },
  "orig_nbformat": 4
 },
 "nbformat": 4,
 "nbformat_minor": 2
}
