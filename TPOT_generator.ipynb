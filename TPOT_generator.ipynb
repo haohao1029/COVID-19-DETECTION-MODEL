{
 "cells": [
  {
   "cell_type": "code",
   "execution_count": 4,
   "metadata": {},
   "outputs": [],
   "source": [
    "from tpot import TPOTClassifier\n",
    "from sklearn.datasets import load_iris\n",
    "import pandas as pd\n",
    "import numpy as np\n"
   ]
  },
  {
   "cell_type": "code",
   "execution_count": 5,
   "metadata": {},
   "outputs": [
    {
     "name": "stderr",
     "output_type": "stream",
     "text": [
      "C:\\Users\\Gan Jing Hao\\AppData\\Local\\Temp\\ipykernel_3276\\2531249516.py:2: DtypeWarning: Columns (0) have mixed types. Specify dtype option on import or set low_memory=False.\n",
      "  train = pd.read_csv('final_train.csv')\n"
     ]
    },
    {
     "name": "stdout",
     "output_type": "stream",
     "text": [
      "Imputing missing values in feature set\n",
      "                                                                                  \n",
      "Generation 1 - Current best internal CV score: 0.8677004649277841\n",
      "                                                                                   \n",
      "Generation 2 - Current best internal CV score: 0.8677004649277841\n",
      "                                                                                   \n",
      "Generation 3 - Current best internal CV score: 0.8677004649277841\n",
      "                                                                                   \n",
      "Generation 4 - Current best internal CV score: 0.873867231034211\n",
      "                                                                                   \n",
      "Generation 5 - Current best internal CV score: 0.873867231034211\n",
      "                                                             \n",
      "Best pipeline: GradientBoostingClassifier(input_matrix, learning_rate=0.1, max_depth=6, max_features=0.35000000000000003, min_samples_leaf=12, min_samples_split=12, n_estimators=100, subsample=1.0)\n",
      "Imputing missing values in feature set\n",
      "0.9477756286266924\n"
     ]
    },
    {
     "name": "stderr",
     "output_type": "stream",
     "text": [
      "C:\\Users\\Gan Jing Hao\\AppData\\Local\\Packages\\PythonSoftwareFoundation.Python.3.10_qbz5n2kfra8p0\\LocalCache\\local-packages\\Python310\\site-packages\\sklearn\\metrics\\_scorer.py:794: FutureWarning: sklearn.metrics.SCORERS is deprecated and will be removed in v1.3. Please use sklearn.metrics.get_scorer_names to get a list of available scorers and sklearn.metrics.get_metric to get scorer.\n",
      "  warnings.warn(\n"
     ]
    }
   ],
   "source": [
    "\n",
    "# Load train data from final_train.csv\n",
    "train = pd.read_csv('final_train.csv')\n",
    "\n",
    "# drop first 2 columns\n",
    "train = train.drop(train.columns[[0, 1]], axis=1)\n",
    "\n",
    "# X Y\n",
    "X_train = train.drop(['is_positive'], axis=1)\n",
    "y_train = train['is_positive']\n",
    "\n",
    "\n",
    "test = pd.read_csv('final_test.csv')\n",
    "\n",
    "# drop first 2 columns\n",
    "test = test.drop(test.columns[[0, 1]], axis=1)\n",
    "\n",
    "X_test = test.drop(['is_positive'], axis=1)\n",
    "y_test = test['is_positive']\n",
    "\n",
    "# Initialize TPOT\n",
    "tpot = TPOTClassifier(generations=5, population_size=50, verbosity=2, random_state=42)\n",
    "\n",
    "# Train TPOT on training data\n",
    "tpot.fit(X_train, y_train)\n",
    "\n",
    "# Evaluate TPOT on test data\n",
    "print(tpot.score(X_test, y_test))\n",
    "\n",
    "# Export the generated code\n",
    "tpot.export('tpot_iris_pipeline.py')\n"
   ]
  }
 ],
 "metadata": {
  "kernelspec": {
   "display_name": "Python 3",
   "language": "python",
   "name": "python3"
  },
  "language_info": {
   "codemirror_mode": {
    "name": "ipython",
    "version": 3
   },
   "file_extension": ".py",
   "mimetype": "text/x-python",
   "name": "python",
   "nbconvert_exporter": "python",
   "pygments_lexer": "ipython3",
   "version": "3.10.10"
  },
  "orig_nbformat": 4
 },
 "nbformat": 4,
 "nbformat_minor": 2
}
